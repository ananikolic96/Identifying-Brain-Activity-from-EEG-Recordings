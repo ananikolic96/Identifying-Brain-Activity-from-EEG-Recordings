{
 "cells": [
  {
   "cell_type": "markdown",
   "metadata": {},
   "source": [
    "# Identifikacija moždane aktivnosti iz EEG snimaka"
   ]
  },
  {
   "cell_type": "markdown",
   "metadata": {},
   "source": [
    "## Sadržaj:  \n",
    "* [Uvod i motivacija](#uvod)\n",
    "* [Podaci](#podaci)\n",
    "* [Priprema podataka](#priprema)\n",
    "* [Klasifikacione metode](#metode)\n",
    "* [kNN algoritam](#knn)\n",
    "* [Konvolutivne neuronske mreže](#cnn)\n",
    "* [Rezultati](#rezultati)\n",
    "* [Zaključak](#zaključak)\n",
    "* [Literatura](#ref)"
   ]
  },
  {
   "cell_type": "markdown",
   "metadata": {},
   "source": [
    "## Uvod i motivacija  <a class=\"anchor\" id=\"uvod\"></a>\n",
    "\n",
    "Epilepsija, jedno od najčešćih neuroloških stanja koje karakterišu epileptični napadi, drugi je najčešći neurološki poremećaj iza moždanog udara i pogađa oko pedeset miliona ljudi prema podacima Svetske zdravstvene organizacije (SZO). Mogu se pojaviti napadi bez obzira na okolnosti ili atribute osobe. Pacijenti sa epilepsijom pate od iznenadnih i nepredviđenih napada tokom kojih su podložni gušenju, smrti ili povredama. Do danas se ova bolest uglavnom leči lekovima i hirurškim zahvatima, ali jos uvek ne postoji lek.  \n",
    "Elektroencefalografija (EEG) igra važnu ulogu u otkrivanju epilepsije i drugih neuroloskih poremecaja, jer meri razlike u promenama napona između elektroda duž vlasišta kože osetljivim jonskim strujama koje teku unutar neurona mozga i pruža vremenske i prostorne informacije o mozgu. Pored toga, naučnici su koristili EEG snimke za pronalaženje paterna budnosti, kretanja, treptanja i druge.  \n",
    "Ipak analiza snimaka EEG-om zahteva direktno ispitivanje od strane lekara, kao i znatnu količinu vremena i truda. Ova metoda je očigledno dugotrajna i naporna, a pravovremena i tačna dijagnoza epilepsije je od suštinskog značaja za započinjanje terapije. Takodje, javlja se i problem različitih dijagnostičkih rezultata u zavisnosti od stručnosti kadra. Stoga je hitno potreban razvoj automatizovane metode za detekciju epilepsije kao i drugih moždanih aktivnosti. Razvoj dubokog učenja (Deep Learning) pružio je novi put za rešavanje ovog problema i naravno motivaciju.  \n",
    "Naš cilj u ovom radu je da klasifikujemo EEG snimke različitih vrsta moždanih aktivnosti koristeći sledeće metode dubokog učenja: algoritam k najbližih suseda (KNN) i konvolutivne neuronske mreže (CNN).   \n",
    "\n",
    "## Podaci  <a class=\"anchor\" id=\"podaci\"></a>\n",
    "\n",
    "Originalni skup podataka (The Epileptic Seizure Recognition dataset) sastoji se od 5 različitih foldera, svaki sa 100 datoteka, pri čemu svaka datoteka predstavlja jednu osobu. Svaka datoteka je snimak moždanih aktivnosti u trajanju od 23.6 sekundi. Odgovarajuća vremenska serija uzorkovana je u 4097 tačaka podataka. Svaka tačka podataka je vrednost EEG snimka u različitom trenutku. Dakle, imamo ukupno 500 pojedinaca, a svaki ima 4097 tačaka podataka u trajanju od 23,5 sekundi.\n",
    "U radu smo koristili modifikovani skup podataka. Svakih 4097 tačaka podataka podelili smo u 23 komada (chunk) tako da svaki  sadrži 178 tačaka podataka u trajanju od 1 sekunde, a svaka tačka podataka je vrednost EEG snimka u različitom trenutku. Dakle, sada imamo 23 * 500 = 11500 instanci (redova) i svaka instanca sadrži 178 tačaka podataka u trajanju od 1 sekunde (kolona).   \n",
    "Poslednja (179.) kolona je ciljna promenljiva koja uzima vrednosti iz skupa {1, 2, 3, 4, 5} sa sledećim značenjima:  \n",
    "5 - otvorene oči, znači kada su snimali EEG signal mozga pacijent je imao otvorene oči   \n",
    "4 – zatvorene oči, znači kada su snimali EEG signal pacijentu su bile zatvorene oči   \n",
    "3 – znači da su identifikovali gde je tumor u mozgu i beleže EEG aktivnost iz zdravog područja mozga   \n",
    "2 - snimaju EEG iz područja gde su identifikovali tumor  \n",
    "1 – snimak mozga u trenutku epileptičkog napada    \n",
    "\n",
    "Svi ispitanici sa ciljnom promenljivom iz skupa {2, 3, 4, 5} su ispitanici koji nisu imali epileptički napad, već su to samo ispitanici iz grupe 1. Iako postoji 5 klasa, većina autora je u prethodnim radovima izvršila binarnu klasifikaciju (klasa 1 u odnosu na ostale). Mi ćemo se baviti višeklasnom klasifikacijom i posmatraćemo svih 5 grupa nezavisno.    \n",
    "<br>\n",
    "Naredni deo koda služi za učitavanje i upoznavanje sa podacima, pa da počnemo:\n"
   ]
  },
  {
   "cell_type": "code",
   "execution_count": 1,
   "metadata": {},
   "outputs": [],
   "source": [
    "import numpy as np\n",
    "import matplotlib.pyplot as plt\n",
    "import pandas as pd"
   ]
  },
  {
   "cell_type": "code",
   "execution_count": 2,
   "metadata": {},
   "outputs": [],
   "source": [
    "data = pd.read_csv('data.csv')"
   ]
  },
  {
   "cell_type": "code",
   "execution_count": 3,
   "metadata": {},
   "outputs": [
    {
     "data": {
      "text/html": [
       "<div>\n",
       "<style scoped>\n",
       "    .dataframe tbody tr th:only-of-type {\n",
       "        vertical-align: middle;\n",
       "    }\n",
       "\n",
       "    .dataframe tbody tr th {\n",
       "        vertical-align: top;\n",
       "    }\n",
       "\n",
       "    .dataframe thead th {\n",
       "        text-align: right;\n",
       "    }\n",
       "</style>\n",
       "<table border=\"1\" class=\"dataframe\">\n",
       "  <thead>\n",
       "    <tr style=\"text-align: right;\">\n",
       "      <th></th>\n",
       "      <th>X1</th>\n",
       "      <th>X2</th>\n",
       "      <th>X3</th>\n",
       "      <th>X4</th>\n",
       "      <th>X5</th>\n",
       "      <th>X6</th>\n",
       "      <th>X7</th>\n",
       "      <th>X8</th>\n",
       "      <th>X9</th>\n",
       "      <th>X10</th>\n",
       "      <th>...</th>\n",
       "      <th>X170</th>\n",
       "      <th>X171</th>\n",
       "      <th>X172</th>\n",
       "      <th>X173</th>\n",
       "      <th>X174</th>\n",
       "      <th>X175</th>\n",
       "      <th>X176</th>\n",
       "      <th>X177</th>\n",
       "      <th>X178</th>\n",
       "      <th>y</th>\n",
       "    </tr>\n",
       "  </thead>\n",
       "  <tbody>\n",
       "    <tr>\n",
       "      <th>count</th>\n",
       "      <td>11500.000000</td>\n",
       "      <td>11500.000000</td>\n",
       "      <td>11500.000000</td>\n",
       "      <td>11500.000000</td>\n",
       "      <td>11500.000000</td>\n",
       "      <td>11500.000000</td>\n",
       "      <td>11500.000000</td>\n",
       "      <td>11500.00000</td>\n",
       "      <td>11500.00000</td>\n",
       "      <td>11500.000000</td>\n",
       "      <td>...</td>\n",
       "      <td>11500.000000</td>\n",
       "      <td>11500.000000</td>\n",
       "      <td>11500.000000</td>\n",
       "      <td>11500.000000</td>\n",
       "      <td>11500.000000</td>\n",
       "      <td>11500.000000</td>\n",
       "      <td>11500.000000</td>\n",
       "      <td>11500.000000</td>\n",
       "      <td>11500.000000</td>\n",
       "      <td>11500.000000</td>\n",
       "    </tr>\n",
       "    <tr>\n",
       "      <th>mean</th>\n",
       "      <td>-11.581391</td>\n",
       "      <td>-10.911565</td>\n",
       "      <td>-10.187130</td>\n",
       "      <td>-9.143043</td>\n",
       "      <td>-8.009739</td>\n",
       "      <td>-7.003478</td>\n",
       "      <td>-6.502087</td>\n",
       "      <td>-6.68713</td>\n",
       "      <td>-6.55800</td>\n",
       "      <td>-6.168435</td>\n",
       "      <td>...</td>\n",
       "      <td>-10.145739</td>\n",
       "      <td>-11.630348</td>\n",
       "      <td>-12.943478</td>\n",
       "      <td>-13.668870</td>\n",
       "      <td>-13.363304</td>\n",
       "      <td>-13.045043</td>\n",
       "      <td>-12.705130</td>\n",
       "      <td>-12.426000</td>\n",
       "      <td>-12.195652</td>\n",
       "      <td>3.000000</td>\n",
       "    </tr>\n",
       "    <tr>\n",
       "      <th>std</th>\n",
       "      <td>165.626284</td>\n",
       "      <td>166.059609</td>\n",
       "      <td>163.524317</td>\n",
       "      <td>161.269041</td>\n",
       "      <td>160.998007</td>\n",
       "      <td>161.328725</td>\n",
       "      <td>161.467837</td>\n",
       "      <td>162.11912</td>\n",
       "      <td>162.03336</td>\n",
       "      <td>160.436352</td>\n",
       "      <td>...</td>\n",
       "      <td>164.652883</td>\n",
       "      <td>166.149790</td>\n",
       "      <td>168.554058</td>\n",
       "      <td>168.556486</td>\n",
       "      <td>167.257290</td>\n",
       "      <td>164.241019</td>\n",
       "      <td>162.895832</td>\n",
       "      <td>162.886311</td>\n",
       "      <td>164.852015</td>\n",
       "      <td>1.414275</td>\n",
       "    </tr>\n",
       "    <tr>\n",
       "      <th>min</th>\n",
       "      <td>-1839.000000</td>\n",
       "      <td>-1838.000000</td>\n",
       "      <td>-1835.000000</td>\n",
       "      <td>-1845.000000</td>\n",
       "      <td>-1791.000000</td>\n",
       "      <td>-1757.000000</td>\n",
       "      <td>-1832.000000</td>\n",
       "      <td>-1778.00000</td>\n",
       "      <td>-1840.00000</td>\n",
       "      <td>-1867.000000</td>\n",
       "      <td>...</td>\n",
       "      <td>-1867.000000</td>\n",
       "      <td>-1865.000000</td>\n",
       "      <td>-1642.000000</td>\n",
       "      <td>-1723.000000</td>\n",
       "      <td>-1866.000000</td>\n",
       "      <td>-1863.000000</td>\n",
       "      <td>-1781.000000</td>\n",
       "      <td>-1727.000000</td>\n",
       "      <td>-1829.000000</td>\n",
       "      <td>1.000000</td>\n",
       "    </tr>\n",
       "    <tr>\n",
       "      <th>25%</th>\n",
       "      <td>-54.000000</td>\n",
       "      <td>-55.000000</td>\n",
       "      <td>-54.000000</td>\n",
       "      <td>-54.000000</td>\n",
       "      <td>-54.000000</td>\n",
       "      <td>-54.000000</td>\n",
       "      <td>-54.000000</td>\n",
       "      <td>-55.00000</td>\n",
       "      <td>-55.00000</td>\n",
       "      <td>-54.000000</td>\n",
       "      <td>...</td>\n",
       "      <td>-55.000000</td>\n",
       "      <td>-56.000000</td>\n",
       "      <td>-56.000000</td>\n",
       "      <td>-56.000000</td>\n",
       "      <td>-55.000000</td>\n",
       "      <td>-56.000000</td>\n",
       "      <td>-55.000000</td>\n",
       "      <td>-55.000000</td>\n",
       "      <td>-55.000000</td>\n",
       "      <td>2.000000</td>\n",
       "    </tr>\n",
       "    <tr>\n",
       "      <th>50%</th>\n",
       "      <td>-8.000000</td>\n",
       "      <td>-8.000000</td>\n",
       "      <td>-7.000000</td>\n",
       "      <td>-8.000000</td>\n",
       "      <td>-8.000000</td>\n",
       "      <td>-8.000000</td>\n",
       "      <td>-8.000000</td>\n",
       "      <td>-8.00000</td>\n",
       "      <td>-7.00000</td>\n",
       "      <td>-7.000000</td>\n",
       "      <td>...</td>\n",
       "      <td>-9.000000</td>\n",
       "      <td>-10.000000</td>\n",
       "      <td>-10.000000</td>\n",
       "      <td>-10.000000</td>\n",
       "      <td>-10.000000</td>\n",
       "      <td>-9.000000</td>\n",
       "      <td>-9.000000</td>\n",
       "      <td>-9.000000</td>\n",
       "      <td>-9.000000</td>\n",
       "      <td>3.000000</td>\n",
       "    </tr>\n",
       "    <tr>\n",
       "      <th>75%</th>\n",
       "      <td>34.000000</td>\n",
       "      <td>35.000000</td>\n",
       "      <td>36.000000</td>\n",
       "      <td>36.000000</td>\n",
       "      <td>35.000000</td>\n",
       "      <td>36.000000</td>\n",
       "      <td>35.000000</td>\n",
       "      <td>36.00000</td>\n",
       "      <td>36.00000</td>\n",
       "      <td>35.250000</td>\n",
       "      <td>...</td>\n",
       "      <td>34.000000</td>\n",
       "      <td>34.000000</td>\n",
       "      <td>33.000000</td>\n",
       "      <td>33.000000</td>\n",
       "      <td>34.000000</td>\n",
       "      <td>34.000000</td>\n",
       "      <td>34.000000</td>\n",
       "      <td>34.000000</td>\n",
       "      <td>34.000000</td>\n",
       "      <td>4.000000</td>\n",
       "    </tr>\n",
       "    <tr>\n",
       "      <th>max</th>\n",
       "      <td>1726.000000</td>\n",
       "      <td>1713.000000</td>\n",
       "      <td>1697.000000</td>\n",
       "      <td>1612.000000</td>\n",
       "      <td>1518.000000</td>\n",
       "      <td>1816.000000</td>\n",
       "      <td>2047.000000</td>\n",
       "      <td>2047.00000</td>\n",
       "      <td>2047.00000</td>\n",
       "      <td>2047.000000</td>\n",
       "      <td>...</td>\n",
       "      <td>1777.000000</td>\n",
       "      <td>1472.000000</td>\n",
       "      <td>1319.000000</td>\n",
       "      <td>1436.000000</td>\n",
       "      <td>1733.000000</td>\n",
       "      <td>1958.000000</td>\n",
       "      <td>2047.000000</td>\n",
       "      <td>2047.000000</td>\n",
       "      <td>1915.000000</td>\n",
       "      <td>5.000000</td>\n",
       "    </tr>\n",
       "  </tbody>\n",
       "</table>\n",
       "<p>8 rows × 179 columns</p>\n",
       "</div>"
      ],
      "text/plain": [
       "                 X1            X2            X3            X4            X5  \\\n",
       "count  11500.000000  11500.000000  11500.000000  11500.000000  11500.000000   \n",
       "mean     -11.581391    -10.911565    -10.187130     -9.143043     -8.009739   \n",
       "std      165.626284    166.059609    163.524317    161.269041    160.998007   \n",
       "min    -1839.000000  -1838.000000  -1835.000000  -1845.000000  -1791.000000   \n",
       "25%      -54.000000    -55.000000    -54.000000    -54.000000    -54.000000   \n",
       "50%       -8.000000     -8.000000     -7.000000     -8.000000     -8.000000   \n",
       "75%       34.000000     35.000000     36.000000     36.000000     35.000000   \n",
       "max     1726.000000   1713.000000   1697.000000   1612.000000   1518.000000   \n",
       "\n",
       "                 X6            X7           X8           X9           X10  \\\n",
       "count  11500.000000  11500.000000  11500.00000  11500.00000  11500.000000   \n",
       "mean      -7.003478     -6.502087     -6.68713     -6.55800     -6.168435   \n",
       "std      161.328725    161.467837    162.11912    162.03336    160.436352   \n",
       "min    -1757.000000  -1832.000000  -1778.00000  -1840.00000  -1867.000000   \n",
       "25%      -54.000000    -54.000000    -55.00000    -55.00000    -54.000000   \n",
       "50%       -8.000000     -8.000000     -8.00000     -7.00000     -7.000000   \n",
       "75%       36.000000     35.000000     36.00000     36.00000     35.250000   \n",
       "max     1816.000000   2047.000000   2047.00000   2047.00000   2047.000000   \n",
       "\n",
       "       ...          X170          X171          X172          X173  \\\n",
       "count  ...  11500.000000  11500.000000  11500.000000  11500.000000   \n",
       "mean   ...    -10.145739    -11.630348    -12.943478    -13.668870   \n",
       "std    ...    164.652883    166.149790    168.554058    168.556486   \n",
       "min    ...  -1867.000000  -1865.000000  -1642.000000  -1723.000000   \n",
       "25%    ...    -55.000000    -56.000000    -56.000000    -56.000000   \n",
       "50%    ...     -9.000000    -10.000000    -10.000000    -10.000000   \n",
       "75%    ...     34.000000     34.000000     33.000000     33.000000   \n",
       "max    ...   1777.000000   1472.000000   1319.000000   1436.000000   \n",
       "\n",
       "               X174          X175          X176          X177          X178  \\\n",
       "count  11500.000000  11500.000000  11500.000000  11500.000000  11500.000000   \n",
       "mean     -13.363304    -13.045043    -12.705130    -12.426000    -12.195652   \n",
       "std      167.257290    164.241019    162.895832    162.886311    164.852015   \n",
       "min    -1866.000000  -1863.000000  -1781.000000  -1727.000000  -1829.000000   \n",
       "25%      -55.000000    -56.000000    -55.000000    -55.000000    -55.000000   \n",
       "50%      -10.000000     -9.000000     -9.000000     -9.000000     -9.000000   \n",
       "75%       34.000000     34.000000     34.000000     34.000000     34.000000   \n",
       "max     1733.000000   1958.000000   2047.000000   2047.000000   1915.000000   \n",
       "\n",
       "                  y  \n",
       "count  11500.000000  \n",
       "mean       3.000000  \n",
       "std        1.414275  \n",
       "min        1.000000  \n",
       "25%        2.000000  \n",
       "50%        3.000000  \n",
       "75%        4.000000  \n",
       "max        5.000000  \n",
       "\n",
       "[8 rows x 179 columns]"
      ]
     },
     "execution_count": 3,
     "metadata": {},
     "output_type": "execute_result"
    }
   ],
   "source": [
    "data.describe()"
   ]
  },
  {
   "cell_type": "code",
   "execution_count": 4,
   "metadata": {},
   "outputs": [
    {
     "data": {
      "text/html": [
       "<div>\n",
       "<style scoped>\n",
       "    .dataframe tbody tr th:only-of-type {\n",
       "        vertical-align: middle;\n",
       "    }\n",
       "\n",
       "    .dataframe tbody tr th {\n",
       "        vertical-align: top;\n",
       "    }\n",
       "\n",
       "    .dataframe thead th {\n",
       "        text-align: right;\n",
       "    }\n",
       "</style>\n",
       "<table border=\"1\" class=\"dataframe\">\n",
       "  <thead>\n",
       "    <tr style=\"text-align: right;\">\n",
       "      <th></th>\n",
       "      <th>Unnamed: 0</th>\n",
       "      <th>X1</th>\n",
       "      <th>X2</th>\n",
       "      <th>X3</th>\n",
       "      <th>X4</th>\n",
       "      <th>X5</th>\n",
       "      <th>X6</th>\n",
       "      <th>X7</th>\n",
       "      <th>X8</th>\n",
       "      <th>X9</th>\n",
       "      <th>...</th>\n",
       "      <th>X170</th>\n",
       "      <th>X171</th>\n",
       "      <th>X172</th>\n",
       "      <th>X173</th>\n",
       "      <th>X174</th>\n",
       "      <th>X175</th>\n",
       "      <th>X176</th>\n",
       "      <th>X177</th>\n",
       "      <th>X178</th>\n",
       "      <th>y</th>\n",
       "    </tr>\n",
       "  </thead>\n",
       "  <tbody>\n",
       "    <tr>\n",
       "      <th>0</th>\n",
       "      <td>X21.V1.791</td>\n",
       "      <td>135</td>\n",
       "      <td>190</td>\n",
       "      <td>229</td>\n",
       "      <td>223</td>\n",
       "      <td>192</td>\n",
       "      <td>125</td>\n",
       "      <td>55</td>\n",
       "      <td>-9</td>\n",
       "      <td>-33</td>\n",
       "      <td>...</td>\n",
       "      <td>-17</td>\n",
       "      <td>-15</td>\n",
       "      <td>-31</td>\n",
       "      <td>-77</td>\n",
       "      <td>-103</td>\n",
       "      <td>-127</td>\n",
       "      <td>-116</td>\n",
       "      <td>-83</td>\n",
       "      <td>-51</td>\n",
       "      <td>4</td>\n",
       "    </tr>\n",
       "    <tr>\n",
       "      <th>1</th>\n",
       "      <td>X15.V1.924</td>\n",
       "      <td>386</td>\n",
       "      <td>382</td>\n",
       "      <td>356</td>\n",
       "      <td>331</td>\n",
       "      <td>320</td>\n",
       "      <td>315</td>\n",
       "      <td>307</td>\n",
       "      <td>272</td>\n",
       "      <td>244</td>\n",
       "      <td>...</td>\n",
       "      <td>164</td>\n",
       "      <td>150</td>\n",
       "      <td>146</td>\n",
       "      <td>152</td>\n",
       "      <td>157</td>\n",
       "      <td>156</td>\n",
       "      <td>154</td>\n",
       "      <td>143</td>\n",
       "      <td>129</td>\n",
       "      <td>1</td>\n",
       "    </tr>\n",
       "    <tr>\n",
       "      <th>2</th>\n",
       "      <td>X8.V1.1</td>\n",
       "      <td>-32</td>\n",
       "      <td>-39</td>\n",
       "      <td>-47</td>\n",
       "      <td>-37</td>\n",
       "      <td>-32</td>\n",
       "      <td>-36</td>\n",
       "      <td>-57</td>\n",
       "      <td>-73</td>\n",
       "      <td>-85</td>\n",
       "      <td>...</td>\n",
       "      <td>57</td>\n",
       "      <td>64</td>\n",
       "      <td>48</td>\n",
       "      <td>19</td>\n",
       "      <td>-12</td>\n",
       "      <td>-30</td>\n",
       "      <td>-35</td>\n",
       "      <td>-35</td>\n",
       "      <td>-36</td>\n",
       "      <td>5</td>\n",
       "    </tr>\n",
       "    <tr>\n",
       "      <th>3</th>\n",
       "      <td>X16.V1.60</td>\n",
       "      <td>-105</td>\n",
       "      <td>-101</td>\n",
       "      <td>-96</td>\n",
       "      <td>-92</td>\n",
       "      <td>-89</td>\n",
       "      <td>-95</td>\n",
       "      <td>-102</td>\n",
       "      <td>-100</td>\n",
       "      <td>-87</td>\n",
       "      <td>...</td>\n",
       "      <td>-82</td>\n",
       "      <td>-81</td>\n",
       "      <td>-80</td>\n",
       "      <td>-77</td>\n",
       "      <td>-85</td>\n",
       "      <td>-77</td>\n",
       "      <td>-72</td>\n",
       "      <td>-69</td>\n",
       "      <td>-65</td>\n",
       "      <td>5</td>\n",
       "    </tr>\n",
       "    <tr>\n",
       "      <th>4</th>\n",
       "      <td>X20.V1.54</td>\n",
       "      <td>-9</td>\n",
       "      <td>-65</td>\n",
       "      <td>-98</td>\n",
       "      <td>-102</td>\n",
       "      <td>-78</td>\n",
       "      <td>-48</td>\n",
       "      <td>-16</td>\n",
       "      <td>0</td>\n",
       "      <td>-21</td>\n",
       "      <td>...</td>\n",
       "      <td>4</td>\n",
       "      <td>2</td>\n",
       "      <td>-12</td>\n",
       "      <td>-32</td>\n",
       "      <td>-41</td>\n",
       "      <td>-65</td>\n",
       "      <td>-83</td>\n",
       "      <td>-89</td>\n",
       "      <td>-73</td>\n",
       "      <td>5</td>\n",
       "    </tr>\n",
       "  </tbody>\n",
       "</table>\n",
       "<p>5 rows × 180 columns</p>\n",
       "</div>"
      ],
      "text/plain": [
       "   Unnamed: 0   X1   X2   X3   X4   X5   X6   X7   X8   X9  ...  X170  X171  \\\n",
       "0  X21.V1.791  135  190  229  223  192  125   55   -9  -33  ...   -17   -15   \n",
       "1  X15.V1.924  386  382  356  331  320  315  307  272  244  ...   164   150   \n",
       "2     X8.V1.1  -32  -39  -47  -37  -32  -36  -57  -73  -85  ...    57    64   \n",
       "3   X16.V1.60 -105 -101  -96  -92  -89  -95 -102 -100  -87  ...   -82   -81   \n",
       "4   X20.V1.54   -9  -65  -98 -102  -78  -48  -16    0  -21  ...     4     2   \n",
       "\n",
       "   X172  X173  X174  X175  X176  X177  X178  y  \n",
       "0   -31   -77  -103  -127  -116   -83   -51  4  \n",
       "1   146   152   157   156   154   143   129  1  \n",
       "2    48    19   -12   -30   -35   -35   -36  5  \n",
       "3   -80   -77   -85   -77   -72   -69   -65  5  \n",
       "4   -12   -32   -41   -65   -83   -89   -73  5  \n",
       "\n",
       "[5 rows x 180 columns]"
      ]
     },
     "execution_count": 4,
     "metadata": {},
     "output_type": "execute_result"
    }
   ],
   "source": [
    "data.head()"
   ]
  },
  {
   "cell_type": "markdown",
   "metadata": {},
   "source": [
    "Sledeći korak bi trebalo obrazložiti.   \n",
    "Naime, kolona Unnamed: 0 je nastala modifikovanjem originalnog skupa podataka. Mi smo se odlučili da u našem radu posmatramo samo modifikovane podatke sa pretpostavkom da je svaki red nezavisan i da stratifikujemo po ciljnoj promenljivoj, a ne po osobama kao što je rađeno u nekim radovima. Razlog za to je što smo pre svega u našem dosadašnjem iskustvu uvek stratifikovali po promenljivoj koju zapravo i predviđamo. Ovaj potez se primenjuje u treniranju modela i ispostavio se kao dobar što ćemo se kasnije i uveriti."
   ]
  },
  {
   "cell_type": "code",
   "execution_count": 5,
   "metadata": {},
   "outputs": [],
   "source": [
    "data.drop(columns=['Unnamed: 0'], inplace = True)"
   ]
  },
  {
   "cell_type": "code",
   "execution_count": 6,
   "metadata": {},
   "outputs": [
    {
     "data": {
      "text/plain": [
       "RangeIndex(start=0, stop=11500, step=1)"
      ]
     },
     "execution_count": 6,
     "metadata": {},
     "output_type": "execute_result"
    }
   ],
   "source": [
    "data.index"
   ]
  },
  {
   "cell_type": "markdown",
   "metadata": {},
   "source": [
    "Razdvajamo ciljnu promenljivu od atributa."
   ]
  },
  {
   "cell_type": "code",
   "execution_count": 7,
   "metadata": {},
   "outputs": [
    {
     "data": {
      "text/plain": [
       "0    4\n",
       "1    1\n",
       "2    5\n",
       "3    5\n",
       "4    5\n",
       "5    5\n",
       "6    4\n",
       "7    2\n",
       "8    1\n",
       "9    4\n",
       "Name: y, dtype: int64"
      ]
     },
     "execution_count": 7,
     "metadata": {},
     "output_type": "execute_result"
    }
   ],
   "source": [
    "y = data.iloc[:, -1]\n",
    "y[:10]"
   ]
  },
  {
   "cell_type": "code",
   "execution_count": 9,
   "metadata": {},
   "outputs": [
    {
     "data": {
      "text/html": [
       "<div>\n",
       "<style scoped>\n",
       "    .dataframe tbody tr th:only-of-type {\n",
       "        vertical-align: middle;\n",
       "    }\n",
       "\n",
       "    .dataframe tbody tr th {\n",
       "        vertical-align: top;\n",
       "    }\n",
       "\n",
       "    .dataframe thead th {\n",
       "        text-align: right;\n",
       "    }\n",
       "</style>\n",
       "<table border=\"1\" class=\"dataframe\">\n",
       "  <thead>\n",
       "    <tr style=\"text-align: right;\">\n",
       "      <th></th>\n",
       "      <th>X1</th>\n",
       "      <th>X2</th>\n",
       "      <th>X3</th>\n",
       "      <th>X4</th>\n",
       "      <th>X5</th>\n",
       "      <th>X6</th>\n",
       "      <th>X7</th>\n",
       "      <th>X8</th>\n",
       "      <th>X9</th>\n",
       "      <th>X10</th>\n",
       "      <th>...</th>\n",
       "      <th>X169</th>\n",
       "      <th>X170</th>\n",
       "      <th>X171</th>\n",
       "      <th>X172</th>\n",
       "      <th>X173</th>\n",
       "      <th>X174</th>\n",
       "      <th>X175</th>\n",
       "      <th>X176</th>\n",
       "      <th>X177</th>\n",
       "      <th>X178</th>\n",
       "    </tr>\n",
       "  </thead>\n",
       "  <tbody>\n",
       "    <tr>\n",
       "      <th>0</th>\n",
       "      <td>135</td>\n",
       "      <td>190</td>\n",
       "      <td>229</td>\n",
       "      <td>223</td>\n",
       "      <td>192</td>\n",
       "      <td>125</td>\n",
       "      <td>55</td>\n",
       "      <td>-9</td>\n",
       "      <td>-33</td>\n",
       "      <td>-38</td>\n",
       "      <td>...</td>\n",
       "      <td>8</td>\n",
       "      <td>-17</td>\n",
       "      <td>-15</td>\n",
       "      <td>-31</td>\n",
       "      <td>-77</td>\n",
       "      <td>-103</td>\n",
       "      <td>-127</td>\n",
       "      <td>-116</td>\n",
       "      <td>-83</td>\n",
       "      <td>-51</td>\n",
       "    </tr>\n",
       "    <tr>\n",
       "      <th>1</th>\n",
       "      <td>386</td>\n",
       "      <td>382</td>\n",
       "      <td>356</td>\n",
       "      <td>331</td>\n",
       "      <td>320</td>\n",
       "      <td>315</td>\n",
       "      <td>307</td>\n",
       "      <td>272</td>\n",
       "      <td>244</td>\n",
       "      <td>232</td>\n",
       "      <td>...</td>\n",
       "      <td>168</td>\n",
       "      <td>164</td>\n",
       "      <td>150</td>\n",
       "      <td>146</td>\n",
       "      <td>152</td>\n",
       "      <td>157</td>\n",
       "      <td>156</td>\n",
       "      <td>154</td>\n",
       "      <td>143</td>\n",
       "      <td>129</td>\n",
       "    </tr>\n",
       "    <tr>\n",
       "      <th>2</th>\n",
       "      <td>-32</td>\n",
       "      <td>-39</td>\n",
       "      <td>-47</td>\n",
       "      <td>-37</td>\n",
       "      <td>-32</td>\n",
       "      <td>-36</td>\n",
       "      <td>-57</td>\n",
       "      <td>-73</td>\n",
       "      <td>-85</td>\n",
       "      <td>-94</td>\n",
       "      <td>...</td>\n",
       "      <td>29</td>\n",
       "      <td>57</td>\n",
       "      <td>64</td>\n",
       "      <td>48</td>\n",
       "      <td>19</td>\n",
       "      <td>-12</td>\n",
       "      <td>-30</td>\n",
       "      <td>-35</td>\n",
       "      <td>-35</td>\n",
       "      <td>-36</td>\n",
       "    </tr>\n",
       "    <tr>\n",
       "      <th>3</th>\n",
       "      <td>-105</td>\n",
       "      <td>-101</td>\n",
       "      <td>-96</td>\n",
       "      <td>-92</td>\n",
       "      <td>-89</td>\n",
       "      <td>-95</td>\n",
       "      <td>-102</td>\n",
       "      <td>-100</td>\n",
       "      <td>-87</td>\n",
       "      <td>-79</td>\n",
       "      <td>...</td>\n",
       "      <td>-80</td>\n",
       "      <td>-82</td>\n",
       "      <td>-81</td>\n",
       "      <td>-80</td>\n",
       "      <td>-77</td>\n",
       "      <td>-85</td>\n",
       "      <td>-77</td>\n",
       "      <td>-72</td>\n",
       "      <td>-69</td>\n",
       "      <td>-65</td>\n",
       "    </tr>\n",
       "    <tr>\n",
       "      <th>4</th>\n",
       "      <td>-9</td>\n",
       "      <td>-65</td>\n",
       "      <td>-98</td>\n",
       "      <td>-102</td>\n",
       "      <td>-78</td>\n",
       "      <td>-48</td>\n",
       "      <td>-16</td>\n",
       "      <td>0</td>\n",
       "      <td>-21</td>\n",
       "      <td>-59</td>\n",
       "      <td>...</td>\n",
       "      <td>10</td>\n",
       "      <td>4</td>\n",
       "      <td>2</td>\n",
       "      <td>-12</td>\n",
       "      <td>-32</td>\n",
       "      <td>-41</td>\n",
       "      <td>-65</td>\n",
       "      <td>-83</td>\n",
       "      <td>-89</td>\n",
       "      <td>-73</td>\n",
       "    </tr>\n",
       "  </tbody>\n",
       "</table>\n",
       "<p>5 rows × 178 columns</p>\n",
       "</div>"
      ],
      "text/plain": [
       "    X1   X2   X3   X4   X5   X6   X7   X8   X9  X10  ...  X169  X170  X171  \\\n",
       "0  135  190  229  223  192  125   55   -9  -33  -38  ...     8   -17   -15   \n",
       "1  386  382  356  331  320  315  307  272  244  232  ...   168   164   150   \n",
       "2  -32  -39  -47  -37  -32  -36  -57  -73  -85  -94  ...    29    57    64   \n",
       "3 -105 -101  -96  -92  -89  -95 -102 -100  -87  -79  ...   -80   -82   -81   \n",
       "4   -9  -65  -98 -102  -78  -48  -16    0  -21  -59  ...    10     4     2   \n",
       "\n",
       "   X172  X173  X174  X175  X176  X177  X178  \n",
       "0   -31   -77  -103  -127  -116   -83   -51  \n",
       "1   146   152   157   156   154   143   129  \n",
       "2    48    19   -12   -30   -35   -35   -36  \n",
       "3   -80   -77   -85   -77   -72   -69   -65  \n",
       "4   -12   -32   -41   -65   -83   -89   -73  \n",
       "\n",
       "[5 rows x 178 columns]"
      ]
     },
     "execution_count": 9,
     "metadata": {},
     "output_type": "execute_result"
    }
   ],
   "source": [
    "X = data.iloc[:, :data.shape[1] - 1]\n",
    "X.head()"
   ]
  },
  {
   "cell_type": "code",
   "execution_count": 10,
   "metadata": {},
   "outputs": [],
   "source": [
    "number_of_columns = X.shape[1]\n",
    "number_of_rows = X.shape[0]\n",
    "number_of_classes = len(np.unique(y))"
   ]
  },
  {
   "cell_type": "code",
   "execution_count": 12,
   "metadata": {},
   "outputs": [
    {
     "name": "stdout",
     "output_type": "stream",
     "text": [
      "Podaci imaju  11500  redova i  178  kolona i još jednu target kolonu koja ima  5  jedinstvenih vrednosti.\n"
     ]
    }
   ],
   "source": [
    "print('Podaci imaju ', number_of_rows, ' redova i ', number_of_columns, \n",
    "      ' kolona i još jednu target kolonu koja ima ', number_of_classes, ' jedinstvenih vrednosti.')"
   ]
  },
  {
   "cell_type": "code",
   "execution_count": 13,
   "metadata": {},
   "outputs": [
    {
     "data": {
      "text/plain": [
       "array([   0, 2300, 2300, 2300, 2300, 2300], dtype=int64)"
      ]
     },
     "execution_count": 13,
     "metadata": {},
     "output_type": "execute_result"
    }
   ],
   "source": [
    "np.bincount(y)"
   ]
  },
  {
   "cell_type": "code",
   "execution_count": 15,
   "metadata": {},
   "outputs": [
    {
     "name": "stdout",
     "output_type": "stream",
     "text": [
      "Raspodela po klasama: \n",
      " 5    2300\n",
      "4    2300\n",
      "3    2300\n",
      "2    2300\n",
      "1    2300\n",
      "Name: y, dtype: int64\n"
     ]
    }
   ],
   "source": [
    "print('Raspodela po klasama: \\n', y.value_counts())"
   ]
  },
  {
   "cell_type": "markdown",
   "metadata": {},
   "source": [
    "Sada ćemo videti jasnu razliku između opservacija sa ciljnom promenljivom 1 - gde se javio epileptički napad i ostalih gde nije."
   ]
  },
  {
   "cell_type": "code",
   "execution_count": 16,
   "metadata": {},
   "outputs": [
    {
     "data": {
      "text/html": [
       "<div>\n",
       "<style scoped>\n",
       "    .dataframe tbody tr th:only-of-type {\n",
       "        vertical-align: middle;\n",
       "    }\n",
       "\n",
       "    .dataframe tbody tr th {\n",
       "        vertical-align: top;\n",
       "    }\n",
       "\n",
       "    .dataframe thead th {\n",
       "        text-align: right;\n",
       "    }\n",
       "</style>\n",
       "<table border=\"1\" class=\"dataframe\">\n",
       "  <thead>\n",
       "    <tr style=\"text-align: right;\">\n",
       "      <th></th>\n",
       "      <th>X1</th>\n",
       "      <th>X2</th>\n",
       "      <th>X3</th>\n",
       "      <th>X4</th>\n",
       "      <th>X5</th>\n",
       "      <th>X6</th>\n",
       "      <th>X7</th>\n",
       "      <th>X8</th>\n",
       "      <th>X9</th>\n",
       "      <th>X10</th>\n",
       "      <th>...</th>\n",
       "      <th>X169</th>\n",
       "      <th>X170</th>\n",
       "      <th>X171</th>\n",
       "      <th>X172</th>\n",
       "      <th>X173</th>\n",
       "      <th>X174</th>\n",
       "      <th>X175</th>\n",
       "      <th>X176</th>\n",
       "      <th>X177</th>\n",
       "      <th>X178</th>\n",
       "    </tr>\n",
       "    <tr>\n",
       "      <th>y</th>\n",
       "      <th></th>\n",
       "      <th></th>\n",
       "      <th></th>\n",
       "      <th></th>\n",
       "      <th></th>\n",
       "      <th></th>\n",
       "      <th></th>\n",
       "      <th></th>\n",
       "      <th></th>\n",
       "      <th></th>\n",
       "      <th></th>\n",
       "      <th></th>\n",
       "      <th></th>\n",
       "      <th></th>\n",
       "      <th></th>\n",
       "      <th></th>\n",
       "      <th></th>\n",
       "      <th></th>\n",
       "      <th></th>\n",
       "      <th></th>\n",
       "      <th></th>\n",
       "    </tr>\n",
       "  </thead>\n",
       "  <tbody>\n",
       "    <tr>\n",
       "      <th>1</th>\n",
       "      <td>-21.936522</td>\n",
       "      <td>-19.049130</td>\n",
       "      <td>-15.293913</td>\n",
       "      <td>-9.836087</td>\n",
       "      <td>-3.707391</td>\n",
       "      <td>2.730000</td>\n",
       "      <td>6.899565</td>\n",
       "      <td>7.425652</td>\n",
       "      <td>8.380870</td>\n",
       "      <td>10.773913</td>\n",
       "      <td>...</td>\n",
       "      <td>-7.266522</td>\n",
       "      <td>-9.714783</td>\n",
       "      <td>-15.909565</td>\n",
       "      <td>-22.383043</td>\n",
       "      <td>-26.424783</td>\n",
       "      <td>-26.221739</td>\n",
       "      <td>-25.830870</td>\n",
       "      <td>-25.043913</td>\n",
       "      <td>-24.548261</td>\n",
       "      <td>-24.016522</td>\n",
       "    </tr>\n",
       "    <tr>\n",
       "      <th>2</th>\n",
       "      <td>-7.710000</td>\n",
       "      <td>-8.148696</td>\n",
       "      <td>-8.020000</td>\n",
       "      <td>-8.050435</td>\n",
       "      <td>-7.776957</td>\n",
       "      <td>-8.220870</td>\n",
       "      <td>-8.597826</td>\n",
       "      <td>-9.210000</td>\n",
       "      <td>-9.217826</td>\n",
       "      <td>-9.347826</td>\n",
       "      <td>...</td>\n",
       "      <td>-7.979565</td>\n",
       "      <td>-8.483043</td>\n",
       "      <td>-8.967391</td>\n",
       "      <td>-9.067391</td>\n",
       "      <td>-8.924783</td>\n",
       "      <td>-8.592174</td>\n",
       "      <td>-8.524348</td>\n",
       "      <td>-8.558696</td>\n",
       "      <td>-8.187391</td>\n",
       "      <td>-8.147391</td>\n",
       "    </tr>\n",
       "    <tr>\n",
       "      <th>3</th>\n",
       "      <td>-9.207391</td>\n",
       "      <td>-9.276522</td>\n",
       "      <td>-9.968261</td>\n",
       "      <td>-10.634348</td>\n",
       "      <td>-11.172174</td>\n",
       "      <td>-11.559130</td>\n",
       "      <td>-11.797826</td>\n",
       "      <td>-12.013043</td>\n",
       "      <td>-12.132609</td>\n",
       "      <td>-12.249130</td>\n",
       "      <td>...</td>\n",
       "      <td>-13.590000</td>\n",
       "      <td>-13.332174</td>\n",
       "      <td>-13.218696</td>\n",
       "      <td>-12.789565</td>\n",
       "      <td>-12.366087</td>\n",
       "      <td>-11.320000</td>\n",
       "      <td>-10.455217</td>\n",
       "      <td>-9.757391</td>\n",
       "      <td>-9.418696</td>\n",
       "      <td>-8.935217</td>\n",
       "    </tr>\n",
       "    <tr>\n",
       "      <th>4</th>\n",
       "      <td>-12.726087</td>\n",
       "      <td>-12.410435</td>\n",
       "      <td>-12.272609</td>\n",
       "      <td>-12.096957</td>\n",
       "      <td>-12.083043</td>\n",
       "      <td>-12.349130</td>\n",
       "      <td>-13.064348</td>\n",
       "      <td>-13.419565</td>\n",
       "      <td>-13.441739</td>\n",
       "      <td>-13.147826</td>\n",
       "      <td>...</td>\n",
       "      <td>-13.428696</td>\n",
       "      <td>-13.636522</td>\n",
       "      <td>-14.114783</td>\n",
       "      <td>-14.404783</td>\n",
       "      <td>-14.251304</td>\n",
       "      <td>-14.109565</td>\n",
       "      <td>-13.653913</td>\n",
       "      <td>-13.082174</td>\n",
       "      <td>-12.791739</td>\n",
       "      <td>-12.914783</td>\n",
       "    </tr>\n",
       "    <tr>\n",
       "      <th>5</th>\n",
       "      <td>-6.326957</td>\n",
       "      <td>-5.673043</td>\n",
       "      <td>-5.380870</td>\n",
       "      <td>-5.097391</td>\n",
       "      <td>-5.309130</td>\n",
       "      <td>-5.618261</td>\n",
       "      <td>-5.950000</td>\n",
       "      <td>-6.218696</td>\n",
       "      <td>-6.378696</td>\n",
       "      <td>-6.871304</td>\n",
       "      <td>...</td>\n",
       "      <td>-5.229565</td>\n",
       "      <td>-5.562174</td>\n",
       "      <td>-5.941304</td>\n",
       "      <td>-6.072609</td>\n",
       "      <td>-6.377391</td>\n",
       "      <td>-6.573043</td>\n",
       "      <td>-6.760870</td>\n",
       "      <td>-7.083478</td>\n",
       "      <td>-7.183913</td>\n",
       "      <td>-6.964348</td>\n",
       "    </tr>\n",
       "  </tbody>\n",
       "</table>\n",
       "<p>5 rows × 178 columns</p>\n",
       "</div>"
      ],
      "text/plain": [
       "          X1         X2         X3         X4         X5         X6  \\\n",
       "y                                                                     \n",
       "1 -21.936522 -19.049130 -15.293913  -9.836087  -3.707391   2.730000   \n",
       "2  -7.710000  -8.148696  -8.020000  -8.050435  -7.776957  -8.220870   \n",
       "3  -9.207391  -9.276522  -9.968261 -10.634348 -11.172174 -11.559130   \n",
       "4 -12.726087 -12.410435 -12.272609 -12.096957 -12.083043 -12.349130   \n",
       "5  -6.326957  -5.673043  -5.380870  -5.097391  -5.309130  -5.618261   \n",
       "\n",
       "          X7         X8         X9        X10  ...       X169       X170  \\\n",
       "y                                              ...                         \n",
       "1   6.899565   7.425652   8.380870  10.773913  ...  -7.266522  -9.714783   \n",
       "2  -8.597826  -9.210000  -9.217826  -9.347826  ...  -7.979565  -8.483043   \n",
       "3 -11.797826 -12.013043 -12.132609 -12.249130  ... -13.590000 -13.332174   \n",
       "4 -13.064348 -13.419565 -13.441739 -13.147826  ... -13.428696 -13.636522   \n",
       "5  -5.950000  -6.218696  -6.378696  -6.871304  ...  -5.229565  -5.562174   \n",
       "\n",
       "        X171       X172       X173       X174       X175       X176  \\\n",
       "y                                                                     \n",
       "1 -15.909565 -22.383043 -26.424783 -26.221739 -25.830870 -25.043913   \n",
       "2  -8.967391  -9.067391  -8.924783  -8.592174  -8.524348  -8.558696   \n",
       "3 -13.218696 -12.789565 -12.366087 -11.320000 -10.455217  -9.757391   \n",
       "4 -14.114783 -14.404783 -14.251304 -14.109565 -13.653913 -13.082174   \n",
       "5  -5.941304  -6.072609  -6.377391  -6.573043  -6.760870  -7.083478   \n",
       "\n",
       "        X177       X178  \n",
       "y                        \n",
       "1 -24.548261 -24.016522  \n",
       "2  -8.187391  -8.147391  \n",
       "3  -9.418696  -8.935217  \n",
       "4 -12.791739 -12.914783  \n",
       "5  -7.183913  -6.964348  \n",
       "\n",
       "[5 rows x 178 columns]"
      ]
     },
     "execution_count": 16,
     "metadata": {},
     "output_type": "execute_result"
    }
   ],
   "source": [
    "mean_by_classes = data.groupby(['y']).mean()\n",
    "mean_by_classes.head()"
   ]
  },
  {
   "cell_type": "code",
   "execution_count": 17,
   "metadata": {},
   "outputs": [
    {
     "data": {
      "text/plain": [
       "<matplotlib.legend.Legend at 0x1ddf7ac00f0>"
      ]
     },
     "execution_count": 17,
     "metadata": {},
     "output_type": "execute_result"
    },
    {
     "data": {
      "image/png": "[encoded data removed]",
      "text/plain": [
       "<Figure size 720x432 with 1 Axes>"
      ]
     },
     "metadata": {
      "needs_background": "light"
     },
     "output_type": "display_data"
    }
   ],
   "source": [
    "colors = ['blue', 'orange', 'green', 'red', 'purple']\n",
    "plt.figure(figsize = (10, 6))\n",
    "for i in range(number_of_classes):\n",
    "    plt.plot(range(number_of_columns), mean_by_classes.iloc[i,:], c = colors[i], label = 'labela ' + str(i+1))\n",
    "plt.legend(loc = 'upper right')"
   ]
  },
  {
   "cell_type": "code",
   "execution_count": 18,
   "metadata": {},
   "outputs": [
    {
     "data": {
      "text/html": [
       "<div>\n",
       "<style scoped>\n",
       "    .dataframe tbody tr th:only-of-type {\n",
       "        vertical-align: middle;\n",
       "    }\n",
       "\n",
       "    .dataframe tbody tr th {\n",
       "        vertical-align: top;\n",
       "    }\n",
       "\n",
       "    .dataframe thead th {\n",
       "        text-align: right;\n",
       "    }\n",
       "</style>\n",
       "<table border=\"1\" class=\"dataframe\">\n",
       "  <thead>\n",
       "    <tr style=\"text-align: right;\">\n",
       "      <th></th>\n",
       "      <th>X1</th>\n",
       "      <th>X2</th>\n",
       "      <th>X3</th>\n",
       "      <th>X4</th>\n",
       "      <th>X5</th>\n",
       "      <th>X6</th>\n",
       "      <th>X7</th>\n",
       "      <th>X8</th>\n",
       "      <th>X9</th>\n",
       "      <th>X10</th>\n",
       "      <th>...</th>\n",
       "      <th>X169</th>\n",
       "      <th>X170</th>\n",
       "      <th>X171</th>\n",
       "      <th>X172</th>\n",
       "      <th>X173</th>\n",
       "      <th>X174</th>\n",
       "      <th>X175</th>\n",
       "      <th>X176</th>\n",
       "      <th>X177</th>\n",
       "      <th>X178</th>\n",
       "    </tr>\n",
       "    <tr>\n",
       "      <th>y</th>\n",
       "      <th></th>\n",
       "      <th></th>\n",
       "      <th></th>\n",
       "      <th></th>\n",
       "      <th></th>\n",
       "      <th></th>\n",
       "      <th></th>\n",
       "      <th></th>\n",
       "      <th></th>\n",
       "      <th></th>\n",
       "      <th></th>\n",
       "      <th></th>\n",
       "      <th></th>\n",
       "      <th></th>\n",
       "      <th></th>\n",
       "      <th></th>\n",
       "      <th></th>\n",
       "      <th></th>\n",
       "      <th></th>\n",
       "      <th></th>\n",
       "      <th></th>\n",
       "    </tr>\n",
       "  </thead>\n",
       "  <tbody>\n",
       "    <tr>\n",
       "      <th>1</th>\n",
       "      <td>342.361939</td>\n",
       "      <td>343.398782</td>\n",
       "      <td>337.489643</td>\n",
       "      <td>332.354833</td>\n",
       "      <td>332.211163</td>\n",
       "      <td>332.941638</td>\n",
       "      <td>332.899545</td>\n",
       "      <td>334.375084</td>\n",
       "      <td>334.534814</td>\n",
       "      <td>331.071853</td>\n",
       "      <td>...</td>\n",
       "      <td>342.095308</td>\n",
       "      <td>341.534693</td>\n",
       "      <td>345.740615</td>\n",
       "      <td>351.503084</td>\n",
       "      <td>351.184524</td>\n",
       "      <td>347.475865</td>\n",
       "      <td>339.650467</td>\n",
       "      <td>335.747017</td>\n",
       "      <td>335.244512</td>\n",
       "      <td>339.819309</td>\n",
       "    </tr>\n",
       "    <tr>\n",
       "      <th>2</th>\n",
       "      <td>95.525136</td>\n",
       "      <td>94.734737</td>\n",
       "      <td>93.716055</td>\n",
       "      <td>92.509248</td>\n",
       "      <td>91.004234</td>\n",
       "      <td>90.880780</td>\n",
       "      <td>91.679224</td>\n",
       "      <td>92.097291</td>\n",
       "      <td>91.138175</td>\n",
       "      <td>89.759109</td>\n",
       "      <td>...</td>\n",
       "      <td>92.959490</td>\n",
       "      <td>89.569320</td>\n",
       "      <td>86.961108</td>\n",
       "      <td>86.397728</td>\n",
       "      <td>87.752018</td>\n",
       "      <td>90.156202</td>\n",
       "      <td>92.433147</td>\n",
       "      <td>94.311338</td>\n",
       "      <td>96.013765</td>\n",
       "      <td>96.710559</td>\n",
       "    </tr>\n",
       "    <tr>\n",
       "      <th>3</th>\n",
       "      <td>59.924231</td>\n",
       "      <td>60.240543</td>\n",
       "      <td>59.905387</td>\n",
       "      <td>59.697773</td>\n",
       "      <td>59.502204</td>\n",
       "      <td>59.635346</td>\n",
       "      <td>60.043847</td>\n",
       "      <td>59.865027</td>\n",
       "      <td>59.463238</td>\n",
       "      <td>59.110605</td>\n",
       "      <td>...</td>\n",
       "      <td>60.209589</td>\n",
       "      <td>60.715733</td>\n",
       "      <td>60.541729</td>\n",
       "      <td>61.036980</td>\n",
       "      <td>60.658758</td>\n",
       "      <td>60.726974</td>\n",
       "      <td>60.273966</td>\n",
       "      <td>60.178156</td>\n",
       "      <td>59.736182</td>\n",
       "      <td>59.849148</td>\n",
       "    </tr>\n",
       "    <tr>\n",
       "      <th>4</th>\n",
       "      <td>69.729925</td>\n",
       "      <td>70.708016</td>\n",
       "      <td>71.425314</td>\n",
       "      <td>71.519947</td>\n",
       "      <td>71.055967</td>\n",
       "      <td>70.532877</td>\n",
       "      <td>70.027232</td>\n",
       "      <td>69.902928</td>\n",
       "      <td>69.674909</td>\n",
       "      <td>69.296696</td>\n",
       "      <td>...</td>\n",
       "      <td>70.359338</td>\n",
       "      <td>70.353789</td>\n",
       "      <td>70.441038</td>\n",
       "      <td>70.135134</td>\n",
       "      <td>69.881104</td>\n",
       "      <td>69.803366</td>\n",
       "      <td>69.846537</td>\n",
       "      <td>70.480867</td>\n",
       "      <td>70.720585</td>\n",
       "      <td>70.646346</td>\n",
       "    </tr>\n",
       "    <tr>\n",
       "      <th>5</th>\n",
       "      <td>47.553062</td>\n",
       "      <td>47.903503</td>\n",
       "      <td>48.135729</td>\n",
       "      <td>48.560703</td>\n",
       "      <td>48.568777</td>\n",
       "      <td>48.906275</td>\n",
       "      <td>49.121173</td>\n",
       "      <td>49.197125</td>\n",
       "      <td>48.996716</td>\n",
       "      <td>48.979947</td>\n",
       "      <td>...</td>\n",
       "      <td>47.512691</td>\n",
       "      <td>47.424105</td>\n",
       "      <td>47.793875</td>\n",
       "      <td>47.799416</td>\n",
       "      <td>47.660365</td>\n",
       "      <td>47.505155</td>\n",
       "      <td>47.687482</td>\n",
       "      <td>47.977213</td>\n",
       "      <td>48.238124</td>\n",
       "      <td>48.276043</td>\n",
       "    </tr>\n",
       "  </tbody>\n",
       "</table>\n",
       "<p>5 rows × 178 columns</p>\n",
       "</div>"
      ],
      "text/plain": [
       "           X1          X2          X3          X4          X5          X6  \\\n",
       "y                                                                           \n",
       "1  342.361939  343.398782  337.489643  332.354833  332.211163  332.941638   \n",
       "2   95.525136   94.734737   93.716055   92.509248   91.004234   90.880780   \n",
       "3   59.924231   60.240543   59.905387   59.697773   59.502204   59.635346   \n",
       "4   69.729925   70.708016   71.425314   71.519947   71.055967   70.532877   \n",
       "5   47.553062   47.903503   48.135729   48.560703   48.568777   48.906275   \n",
       "\n",
       "           X7          X8          X9         X10  ...        X169  \\\n",
       "y                                                  ...               \n",
       "1  332.899545  334.375084  334.534814  331.071853  ...  342.095308   \n",
       "2   91.679224   92.097291   91.138175   89.759109  ...   92.959490   \n",
       "3   60.043847   59.865027   59.463238   59.110605  ...   60.209589   \n",
       "4   70.027232   69.902928   69.674909   69.296696  ...   70.359338   \n",
       "5   49.121173   49.197125   48.996716   48.979947  ...   47.512691   \n",
       "\n",
       "         X170        X171        X172        X173        X174        X175  \\\n",
       "y                                                                           \n",
       "1  341.534693  345.740615  351.503084  351.184524  347.475865  339.650467   \n",
       "2   89.569320   86.961108   86.397728   87.752018   90.156202   92.433147   \n",
       "3   60.715733   60.541729   61.036980   60.658758   60.726974   60.273966   \n",
       "4   70.353789   70.441038   70.135134   69.881104   69.803366   69.846537   \n",
       "5   47.424105   47.793875   47.799416   47.660365   47.505155   47.687482   \n",
       "\n",
       "         X176        X177        X178  \n",
       "y                                      \n",
       "1  335.747017  335.244512  339.819309  \n",
       "2   94.311338   96.013765   96.710559  \n",
       "3   60.178156   59.736182   59.849148  \n",
       "4   70.480867   70.720585   70.646346  \n",
       "5   47.977213   48.238124   48.276043  \n",
       "\n",
       "[5 rows x 178 columns]"
      ]
     },
     "execution_count": 18,
     "metadata": {},
     "output_type": "execute_result"
    }
   ],
   "source": [
    "std_by_classes = data.groupby(['y']).std()\n",
    "std_by_classes.head()"
   ]
  },
  {
   "cell_type": "code",
   "execution_count": 19,
   "metadata": {},
   "outputs": [
    {
     "data": {
      "text/plain": [
       "<matplotlib.legend.Legend at 0x1ddf8325048>"
      ]
     },
     "execution_count": 19,
     "metadata": {},
     "output_type": "execute_result"
    },
    {
     "data": {
      "image/png": "[encoded data removed]",
      "text/plain": [
       "<Figure size 720x432 with 1 Axes>"
      ]
     },
     "metadata": {
      "needs_background": "light"
     },
     "output_type": "display_data"
    }
   ],
   "source": [
    "colors = ['blue', 'orange', 'green', 'red', 'purple']\n",
    "plt.figure(figsize = (10, 6))\n",
    "for i in range(number_of_classes):\n",
    "    plt.plot(range(number_of_columns), std_by_classes.iloc[i,:], c = colors[i], label = 'labela ' + str(i+1))\n",
    "plt.legend(loc = 'upper right')"
   ]
  },
  {
   "cell_type": "markdown",
   "metadata": {},
   "source": [
    "## Priprema podataka <a class=\"anchor\" id=\"priprema\"></a> \n",
    "Sada kada smo se upoznali sa podacima trebalo bi da ih pripremimo za rad sa modelima.   \n",
    "Međutim, kako i priprema podataka zavisi od načina izbora konfiguracije i evaluacije različitih modela mi to sada nećemo uraditi već ćemo kasnije detaljno objasniti postupak za svaki model posebno. Spomenućemo samo koje smo metode pripreme koristili:  \n"
   ]
  },
  {
   "cell_type": "markdown",
   "metadata": {},
   "source": [
    "### Standardizacija podataka:"
   ]
  },
  {
   "cell_type": "code",
   "execution_count": 20,
   "metadata": {},
   "outputs": [],
   "source": [
    "from sklearn import preprocessing\n",
    "scaler = preprocessing.StandardScaler()\n",
    "scaler.fit(X)\n",
    "X_standardizovano = scaler.transform(X)"
   ]
  },
  {
   "cell_type": "code",
   "execution_count": 21,
   "metadata": {},
   "outputs": [
    {
     "data": {
      "text/plain": [
       "Text(0.5, 1.0, 'Standardizovani podaci')"
      ]
     },
     "execution_count": 21,
     "metadata": {},
     "output_type": "execute_result"
    },
    {
     "data": {
      "image/png": "[encoded data removed]",
      "text/plain": [
       "<Figure size 432x288 with 2 Axes>"
      ]
     },
     "metadata": {
      "needs_background": "light"
     },
     "output_type": "display_data"
    }
   ],
   "source": [
    "plt.subplot(1,2,1)\n",
    "plt.plot(np.arange(number_of_columns),  X.iloc[0, :])  \n",
    "plt.title('Podaci')\n",
    "plt.subplot(1,2,2)\n",
    "plt.plot(np.arange(number_of_columns),  X_standardizovano[0, :])  \n",
    "plt.title('Standardizovani podaci')"
   ]
  },
  {
   "cell_type": "markdown",
   "metadata": {},
   "source": [
    "### Furijeova transformacija podataka za redukciju dimenzije:"
   ]
  },
  {
   "cell_type": "code",
   "execution_count": 22,
   "metadata": {},
   "outputs": [
    {
     "name": "stderr",
     "output_type": "stream",
     "text": [
      "C:\\Users\\vbakarevic\\anaconda3\\lib\\site-packages\\ipykernel_launcher.py:1: ComplexWarning: Casting complex values to real discards the imaginary part\n",
      "  \"\"\"Entry point for launching an IPython kernel.\n"
     ]
    },
    {
     "data": {
      "text/plain": [
       "(11500, 90)"
      ]
     },
     "execution_count": 22,
     "metadata": {},
     "output_type": "execute_result"
    }
   ],
   "source": [
    "X_fft = np.fft.rfft(X, axis=1).astype(float)\n",
    "X_fft.shape"
   ]
  },
  {
   "cell_type": "code",
   "execution_count": 23,
   "metadata": {},
   "outputs": [
    {
     "data": {
      "text/plain": [
       "Text(0.5, 1.0, 'Podaci sa Furijeovom transformacijom')"
      ]
     },
     "execution_count": 23,
     "metadata": {},
     "output_type": "execute_result"
    },
    {
     "data": {
      "image/png": "[encoded data removed]",
      "text/plain": [
       "<Figure size 432x288 with 2 Axes>"
      ]
     },
     "metadata": {
      "needs_background": "light"
     },
     "output_type": "display_data"
    }
   ],
   "source": [
    "plt.subplot(1,2,1)\n",
    "plt.plot(np.arange(number_of_columns),  X.iloc[0, :])  \n",
    "plt.title('Podaci')\n",
    "plt.subplot(1,2,2)\n",
    "plt.plot(np.arange(X_fft.shape[1]),  X_fft[0, :])  \n",
    "plt.title('Podaci sa Furijeovom transformacijom')"
   ]
  },
  {
   "cell_type": "markdown",
   "metadata": {},
   "source": [
    "Detaljan opis i motivacija za korišćenje Furijeove transformacije može se pronaći u fajlu [Furijeova transformacija](https://github.com/ananikolic96/ML/blob/master/Furijeova%20transformacija.ipynb)."
   ]
  },
  {
   "cell_type": "markdown",
   "metadata": {},
   "source": [
    "## Klasifikacione metode  <a class=\"anchor\" id=\"metode\"></a>  \n",
    "U ovom radu upotrebićemo dve klasifikacione metode za identifikaciju moždane aktivnosti, k najbližih suseda i konvolutivne neuronske mreže, jer su se ova dva metoda pokazala kao najuspešnija u dosadašnjim radovima."
   ]
  },
  {
   "cell_type": "markdown",
   "metadata": {},
   "source": [
    "## K najbližih suseda <a class=\"anchor\" id=\"knn\"></a>  \n",
    "Algoritam k najbližih suseda može se primeniti na problem regresije, kao i klasifikacije sa proizvoljnim brojem klasa. Za određivanje vrednosti ciljne promenljive algoritam koristi one instance iz skupa za obučavanje koje su, u prostoru atributa, najbliže tački koju posmatramo. Predviđanje se vrši uprosečavanjem vrednosti zavisne promenljive u slučaju regresije, ili glasanjem u slučaju klasifikacije.\n",
    "\n",
    "Osnovna pretpostavka algoritma je postojanje mere na prostoru atributa. Najčešće korišćeno rastojanje u primenama, pa tako i u ovom projektu, je Euklidsko.\n",
    "\n",
    "Parametar k predstavlja broj najbližih suseda koje koristimo za određivanje ciljne promenljive, ali takođe služi i za regularizaciju. Vrednost jedan dovodi do potpunog preprilagođavanja, dok se za veće vrednosti parametra k algoritam sve manje prilagođava podacima.   \n",
    "<br>\n",
    "Detaljan proces obučavanja kao i izbor parametra k u slučaju našeg problema mogu se pronaći na sledećoj lokaciji:\n",
    "[kNN](https://github.com/Vildana96/Projects/blob/master/kNN.ipynb)."
   ]
  },
  {
   "cell_type": "markdown",
   "metadata": {},
   "source": [
    "### Evaluacija algoritma k najbližih suseda"
   ]
  },
  {
   "cell_type": "code",
   "execution_count": 24,
   "metadata": {},
   "outputs": [
    {
     "data": {
      "text/html": [
       "<div>\n",
       "<style scoped>\n",
       "    .dataframe tbody tr th:only-of-type {\n",
       "        vertical-align: middle;\n",
       "    }\n",
       "\n",
       "    .dataframe tbody tr th {\n",
       "        vertical-align: top;\n",
       "    }\n",
       "\n",
       "    .dataframe thead th {\n",
       "        text-align: right;\n",
       "    }\n",
       "</style>\n",
       "<table border=\"1\" class=\"dataframe\">\n",
       "  <thead>\n",
       "    <tr style=\"text-align: right;\">\n",
       "      <th></th>\n",
       "      <th>Unnamed: 0</th>\n",
       "      <th>fit_time</th>\n",
       "      <th>score_time</th>\n",
       "      <th>test_f1_macro</th>\n",
       "      <th>train_f1_macro</th>\n",
       "      <th>test_accuracy</th>\n",
       "      <th>train_accuracy</th>\n",
       "      <th>test_f1_class_1</th>\n",
       "      <th>train_f1_class_1</th>\n",
       "      <th>test_f1_class_2</th>\n",
       "      <th>train_f1_class_2</th>\n",
       "      <th>test_f1_class_3</th>\n",
       "      <th>train_f1_class_3</th>\n",
       "      <th>test_f1_class_4</th>\n",
       "      <th>train_f1_class_4</th>\n",
       "      <th>test_f1_class_5</th>\n",
       "      <th>train_f1_class_5</th>\n",
       "    </tr>\n",
       "  </thead>\n",
       "  <tbody>\n",
       "    <tr>\n",
       "      <th>0</th>\n",
       "      <td>0</td>\n",
       "      <td>317.911174</td>\n",
       "      <td>66.288463</td>\n",
       "      <td>0.490196</td>\n",
       "      <td>0.664568</td>\n",
       "      <td>0.499130</td>\n",
       "      <td>0.674493</td>\n",
       "      <td>0.816327</td>\n",
       "      <td>0.939193</td>\n",
       "      <td>0.496970</td>\n",
       "      <td>0.632617</td>\n",
       "      <td>0.478049</td>\n",
       "      <td>0.679820</td>\n",
       "      <td>0.440789</td>\n",
       "      <td>0.612850</td>\n",
       "      <td>0.218845</td>\n",
       "      <td>0.458362</td>\n",
       "    </tr>\n",
       "    <tr>\n",
       "      <th>1</th>\n",
       "      <td>1</td>\n",
       "      <td>322.008723</td>\n",
       "      <td>58.780986</td>\n",
       "      <td>0.484116</td>\n",
       "      <td>0.666664</td>\n",
       "      <td>0.494783</td>\n",
       "      <td>0.676425</td>\n",
       "      <td>0.868293</td>\n",
       "      <td>0.939704</td>\n",
       "      <td>0.470238</td>\n",
       "      <td>0.631542</td>\n",
       "      <td>0.457429</td>\n",
       "      <td>0.688079</td>\n",
       "      <td>0.459016</td>\n",
       "      <td>0.614474</td>\n",
       "      <td>0.165605</td>\n",
       "      <td>0.459523</td>\n",
       "    </tr>\n",
       "    <tr>\n",
       "      <th>2</th>\n",
       "      <td>2</td>\n",
       "      <td>326.742123</td>\n",
       "      <td>66.471677</td>\n",
       "      <td>0.476937</td>\n",
       "      <td>0.664131</td>\n",
       "      <td>0.495652</td>\n",
       "      <td>0.673623</td>\n",
       "      <td>0.841310</td>\n",
       "      <td>0.940097</td>\n",
       "      <td>0.507163</td>\n",
       "      <td>0.623930</td>\n",
       "      <td>0.462562</td>\n",
       "      <td>0.686449</td>\n",
       "      <td>0.413115</td>\n",
       "      <td>0.612999</td>\n",
       "      <td>0.160535</td>\n",
       "      <td>0.457181</td>\n",
       "    </tr>\n",
       "    <tr>\n",
       "      <th>3</th>\n",
       "      <td>3</td>\n",
       "      <td>324.314962</td>\n",
       "      <td>66.228166</td>\n",
       "      <td>0.488593</td>\n",
       "      <td>0.661262</td>\n",
       "      <td>0.499130</td>\n",
       "      <td>0.671014</td>\n",
       "      <td>0.858561</td>\n",
       "      <td>0.936715</td>\n",
       "      <td>0.479881</td>\n",
       "      <td>0.625612</td>\n",
       "      <td>0.466887</td>\n",
       "      <td>0.679741</td>\n",
       "      <td>0.470968</td>\n",
       "      <td>0.615637</td>\n",
       "      <td>0.166667</td>\n",
       "      <td>0.448604</td>\n",
       "    </tr>\n",
       "    <tr>\n",
       "      <th>4</th>\n",
       "      <td>4</td>\n",
       "      <td>325.946957</td>\n",
       "      <td>66.357555</td>\n",
       "      <td>0.504571</td>\n",
       "      <td>0.666485</td>\n",
       "      <td>0.517391</td>\n",
       "      <td>0.676329</td>\n",
       "      <td>0.865526</td>\n",
       "      <td>0.939224</td>\n",
       "      <td>0.499195</td>\n",
       "      <td>0.634752</td>\n",
       "      <td>0.504702</td>\n",
       "      <td>0.683544</td>\n",
       "      <td>0.450980</td>\n",
       "      <td>0.607545</td>\n",
       "      <td>0.202454</td>\n",
       "      <td>0.467359</td>\n",
       "    </tr>\n",
       "    <tr>\n",
       "      <th>5</th>\n",
       "      <td>5</td>\n",
       "      <td>327.013980</td>\n",
       "      <td>66.752010</td>\n",
       "      <td>0.496440</td>\n",
       "      <td>0.663365</td>\n",
       "      <td>0.507826</td>\n",
       "      <td>0.672367</td>\n",
       "      <td>0.866995</td>\n",
       "      <td>0.936780</td>\n",
       "      <td>0.477341</td>\n",
       "      <td>0.627128</td>\n",
       "      <td>0.488449</td>\n",
       "      <td>0.679772</td>\n",
       "      <td>0.507937</td>\n",
       "      <td>0.608667</td>\n",
       "      <td>0.141479</td>\n",
       "      <td>0.464477</td>\n",
       "    </tr>\n",
       "    <tr>\n",
       "      <th>6</th>\n",
       "      <td>6</td>\n",
       "      <td>328.993591</td>\n",
       "      <td>67.926564</td>\n",
       "      <td>0.472976</td>\n",
       "      <td>0.665337</td>\n",
       "      <td>0.495652</td>\n",
       "      <td>0.674589</td>\n",
       "      <td>0.856448</td>\n",
       "      <td>0.938076</td>\n",
       "      <td>0.468944</td>\n",
       "      <td>0.629324</td>\n",
       "      <td>0.500768</td>\n",
       "      <td>0.680926</td>\n",
       "      <td>0.377104</td>\n",
       "      <td>0.620577</td>\n",
       "      <td>0.161616</td>\n",
       "      <td>0.457782</td>\n",
       "    </tr>\n",
       "    <tr>\n",
       "      <th>7</th>\n",
       "      <td>7</td>\n",
       "      <td>131.178351</td>\n",
       "      <td>26.490130</td>\n",
       "      <td>0.466609</td>\n",
       "      <td>0.664920</td>\n",
       "      <td>0.478261</td>\n",
       "      <td>0.674783</td>\n",
       "      <td>0.844444</td>\n",
       "      <td>0.935558</td>\n",
       "      <td>0.455772</td>\n",
       "      <td>0.631764</td>\n",
       "      <td>0.443730</td>\n",
       "      <td>0.684664</td>\n",
       "      <td>0.418605</td>\n",
       "      <td>0.624550</td>\n",
       "      <td>0.170492</td>\n",
       "      <td>0.448065</td>\n",
       "    </tr>\n",
       "    <tr>\n",
       "      <th>8</th>\n",
       "      <td>8</td>\n",
       "      <td>129.884472</td>\n",
       "      <td>26.621853</td>\n",
       "      <td>0.457097</td>\n",
       "      <td>0.663826</td>\n",
       "      <td>0.473913</td>\n",
       "      <td>0.674010</td>\n",
       "      <td>0.828283</td>\n",
       "      <td>0.941086</td>\n",
       "      <td>0.458824</td>\n",
       "      <td>0.626908</td>\n",
       "      <td>0.467200</td>\n",
       "      <td>0.686051</td>\n",
       "      <td>0.386441</td>\n",
       "      <td>0.613562</td>\n",
       "      <td>0.144737</td>\n",
       "      <td>0.451525</td>\n",
       "    </tr>\n",
       "    <tr>\n",
       "      <th>9</th>\n",
       "      <td>9</td>\n",
       "      <td>130.996178</td>\n",
       "      <td>26.707711</td>\n",
       "      <td>0.484831</td>\n",
       "      <td>0.663200</td>\n",
       "      <td>0.499130</td>\n",
       "      <td>0.672850</td>\n",
       "      <td>0.841310</td>\n",
       "      <td>0.938650</td>\n",
       "      <td>0.480597</td>\n",
       "      <td>0.627617</td>\n",
       "      <td>0.491857</td>\n",
       "      <td>0.682602</td>\n",
       "      <td>0.460064</td>\n",
       "      <td>0.606422</td>\n",
       "      <td>0.150327</td>\n",
       "      <td>0.460712</td>\n",
       "    </tr>\n",
       "  </tbody>\n",
       "</table>\n",
       "</div>"
      ],
      "text/plain": [
       "   Unnamed: 0    fit_time  score_time  test_f1_macro  train_f1_macro  \\\n",
       "0           0  317.911174   66.288463       0.490196        0.664568   \n",
       "1           1  322.008723   58.780986       0.484116        0.666664   \n",
       "2           2  326.742123   66.471677       0.476937        0.664131   \n",
       "3           3  324.314962   66.228166       0.488593        0.661262   \n",
       "4           4  325.946957   66.357555       0.504571        0.666485   \n",
       "5           5  327.013980   66.752010       0.496440        0.663365   \n",
       "6           6  328.993591   67.926564       0.472976        0.665337   \n",
       "7           7  131.178351   26.490130       0.466609        0.664920   \n",
       "8           8  129.884472   26.621853       0.457097        0.663826   \n",
       "9           9  130.996178   26.707711       0.484831        0.663200   \n",
       "\n",
       "   test_accuracy  train_accuracy  test_f1_class_1  train_f1_class_1  \\\n",
       "0       0.499130        0.674493         0.816327          0.939193   \n",
       "1       0.494783        0.676425         0.868293          0.939704   \n",
       "2       0.495652        0.673623         0.841310          0.940097   \n",
       "3       0.499130        0.671014         0.858561          0.936715   \n",
       "4       0.517391        0.676329         0.865526          0.939224   \n",
       "5       0.507826        0.672367         0.866995          0.936780   \n",
       "6       0.495652        0.674589         0.856448          0.938076   \n",
       "7       0.478261        0.674783         0.844444          0.935558   \n",
       "8       0.473913        0.674010         0.828283          0.941086   \n",
       "9       0.499130        0.672850         0.841310          0.938650   \n",
       "\n",
       "   test_f1_class_2  train_f1_class_2  test_f1_class_3  train_f1_class_3  \\\n",
       "0         0.496970          0.632617         0.478049          0.679820   \n",
       "1         0.470238          0.631542         0.457429          0.688079   \n",
       "2         0.507163          0.623930         0.462562          0.686449   \n",
       "3         0.479881          0.625612         0.466887          0.679741   \n",
       "4         0.499195          0.634752         0.504702          0.683544   \n",
       "5         0.477341          0.627128         0.488449          0.679772   \n",
       "6         0.468944          0.629324         0.500768          0.680926   \n",
       "7         0.455772          0.631764         0.443730          0.684664   \n",
       "8         0.458824          0.626908         0.467200          0.686051   \n",
       "9         0.480597          0.627617         0.491857          0.682602   \n",
       "\n",
       "   test_f1_class_4  train_f1_class_4  test_f1_class_5  train_f1_class_5  \n",
       "0         0.440789          0.612850         0.218845          0.458362  \n",
       "1         0.459016          0.614474         0.165605          0.459523  \n",
       "2         0.413115          0.612999         0.160535          0.457181  \n",
       "3         0.470968          0.615637         0.166667          0.448604  \n",
       "4         0.450980          0.607545         0.202454          0.467359  \n",
       "5         0.507937          0.608667         0.141479          0.464477  \n",
       "6         0.377104          0.620577         0.161616          0.457782  \n",
       "7         0.418605          0.624550         0.170492          0.448065  \n",
       "8         0.386441          0.613562         0.144737          0.451525  \n",
       "9         0.460064          0.606422         0.150327          0.460712  "
      ]
     },
     "execution_count": 24,
     "metadata": {},
     "output_type": "execute_result"
    }
   ],
   "source": [
    "knn_results = pd.read_csv('kNN_scoring_results.csv')\n",
    "knn_results"
   ]
  },
  {
   "cell_type": "code",
   "execution_count": 102,
   "metadata": {},
   "outputs": [
    {
     "name": "stdout",
     "output_type": "stream",
     "text": [
      "Tačnost na skupu za obučavanje je  0.674048309178744  , a F1 skor je  0.6643759363699288\n"
     ]
    }
   ],
   "source": [
    "print('Tačnost na skupu za obučavanje je ', knn_results['train_accuracy'].mean(), \n",
    "      ' , a F1 skor je ', knn_results['train_f1_macro'].mean())"
   ]
  },
  {
   "cell_type": "code",
   "execution_count": 103,
   "metadata": {},
   "outputs": [
    {
     "name": "stdout",
     "output_type": "stream",
     "text": [
      "Ukupno vreme izvršavanja ugnježđene unakrsne validacije modela je trajalo 0.8898932299349043 sati.\n"
     ]
    }
   ],
   "source": [
    "print('Ukupno vreme izvršavanja ugnježđene unakrsne validacije modela je trajalo', \n",
    "      (knn_results['fit_time'].sum() + knn_results['score_time'].sum())/3600, 'sati.')"
   ]
  },
  {
   "cell_type": "markdown",
   "metadata": {},
   "source": [
    "### Rezultati na testnom skupu"
   ]
  },
  {
   "cell_type": "code",
   "execution_count": 110,
   "metadata": {},
   "outputs": [
    {
     "data": {
      "text/plain": [
       "test_accuracy      0.496087\n",
       "test_f1_macro      0.482237\n",
       "test_f1_class_1    0.848750\n",
       "test_f1_class_2    0.479492\n",
       "test_f1_class_3    0.476163\n",
       "test_f1_class_4    0.438502\n",
       "test_f1_class_5    0.168276\n",
       "dtype: float64"
      ]
     },
     "execution_count": 110,
     "metadata": {},
     "output_type": "execute_result"
    }
   ],
   "source": [
    "knn_results.mean()[['test_accuracy', 'test_f1_macro', 'test_f1_class_1', 'test_f1_class_2', 'test_f1_class_3', \n",
    "                   'test_f1_class_4', 'test_f1_class_5']]"
   ]
  },
  {
   "cell_type": "markdown",
   "metadata": {},
   "source": [
    "### Evaluacija algoritma k najbližih suseda sa primenom  Furijeove transformacije"
   ]
  },
  {
   "cell_type": "code",
   "execution_count": 112,
   "metadata": {},
   "outputs": [
    {
     "data": {
      "text/html": [
       "<div>\n",
       "<style scoped>\n",
       "    .dataframe tbody tr th:only-of-type {\n",
       "        vertical-align: middle;\n",
       "    }\n",
       "\n",
       "    .dataframe tbody tr th {\n",
       "        vertical-align: top;\n",
       "    }\n",
       "\n",
       "    .dataframe thead th {\n",
       "        text-align: right;\n",
       "    }\n",
       "</style>\n",
       "<table border=\"1\" class=\"dataframe\">\n",
       "  <thead>\n",
       "    <tr style=\"text-align: right;\">\n",
       "      <th></th>\n",
       "      <th>Unnamed: 0</th>\n",
       "      <th>fit_time</th>\n",
       "      <th>score_time</th>\n",
       "      <th>test_f1_macro</th>\n",
       "      <th>train_f1_macro</th>\n",
       "      <th>test_accuracy</th>\n",
       "      <th>train_accuracy</th>\n",
       "      <th>test_f1_class_1</th>\n",
       "      <th>train_f1_class_1</th>\n",
       "      <th>test_f1_class_2</th>\n",
       "      <th>train_f1_class_2</th>\n",
       "      <th>test_f1_class_3</th>\n",
       "      <th>train_f1_class_3</th>\n",
       "      <th>test_f1_class_4</th>\n",
       "      <th>train_f1_class_4</th>\n",
       "      <th>test_f1_class_5</th>\n",
       "      <th>train_f1_class_5</th>\n",
       "    </tr>\n",
       "  </thead>\n",
       "  <tbody>\n",
       "    <tr>\n",
       "      <th>0</th>\n",
       "      <td>0</td>\n",
       "      <td>125.100386</td>\n",
       "      <td>24.690894</td>\n",
       "      <td>0.463118</td>\n",
       "      <td>0.676012</td>\n",
       "      <td>0.460870</td>\n",
       "      <td>0.676715</td>\n",
       "      <td>0.786632</td>\n",
       "      <td>0.930328</td>\n",
       "      <td>0.425197</td>\n",
       "      <td>0.611879</td>\n",
       "      <td>0.422259</td>\n",
       "      <td>0.666119</td>\n",
       "      <td>0.460606</td>\n",
       "      <td>0.642767</td>\n",
       "      <td>0.220896</td>\n",
       "      <td>0.528967</td>\n",
       "    </tr>\n",
       "    <tr>\n",
       "      <th>1</th>\n",
       "      <td>1</td>\n",
       "      <td>125.619709</td>\n",
       "      <td>24.463188</td>\n",
       "      <td>0.478332</td>\n",
       "      <td>0.676797</td>\n",
       "      <td>0.482609</td>\n",
       "      <td>0.677585</td>\n",
       "      <td>0.830000</td>\n",
       "      <td>0.929780</td>\n",
       "      <td>0.451713</td>\n",
       "      <td>0.615967</td>\n",
       "      <td>0.465195</td>\n",
       "      <td>0.665157</td>\n",
       "      <td>0.474164</td>\n",
       "      <td>0.648513</td>\n",
       "      <td>0.170588</td>\n",
       "      <td>0.524570</td>\n",
       "    </tr>\n",
       "    <tr>\n",
       "      <th>2</th>\n",
       "      <td>2</td>\n",
       "      <td>125.548625</td>\n",
       "      <td>24.964564</td>\n",
       "      <td>0.450710</td>\n",
       "      <td>0.669964</td>\n",
       "      <td>0.452174</td>\n",
       "      <td>0.671014</td>\n",
       "      <td>0.827930</td>\n",
       "      <td>0.929339</td>\n",
       "      <td>0.433483</td>\n",
       "      <td>0.606234</td>\n",
       "      <td>0.386087</td>\n",
       "      <td>0.659697</td>\n",
       "      <td>0.394904</td>\n",
       "      <td>0.641711</td>\n",
       "      <td>0.211144</td>\n",
       "      <td>0.512837</td>\n",
       "    </tr>\n",
       "    <tr>\n",
       "      <th>3</th>\n",
       "      <td>3</td>\n",
       "      <td>122.418953</td>\n",
       "      <td>23.991990</td>\n",
       "      <td>0.462421</td>\n",
       "      <td>0.674119</td>\n",
       "      <td>0.461739</td>\n",
       "      <td>0.674300</td>\n",
       "      <td>0.851485</td>\n",
       "      <td>0.929982</td>\n",
       "      <td>0.400000</td>\n",
       "      <td>0.610084</td>\n",
       "      <td>0.423012</td>\n",
       "      <td>0.656295</td>\n",
       "      <td>0.466877</td>\n",
       "      <td>0.648886</td>\n",
       "      <td>0.170732</td>\n",
       "      <td>0.525349</td>\n",
       "    </tr>\n",
       "    <tr>\n",
       "      <th>4</th>\n",
       "      <td>4</td>\n",
       "      <td>122.992603</td>\n",
       "      <td>23.913206</td>\n",
       "      <td>0.491908</td>\n",
       "      <td>0.675565</td>\n",
       "      <td>0.486957</td>\n",
       "      <td>0.676522</td>\n",
       "      <td>0.828283</td>\n",
       "      <td>0.929852</td>\n",
       "      <td>0.430956</td>\n",
       "      <td>0.615523</td>\n",
       "      <td>0.452962</td>\n",
       "      <td>0.662848</td>\n",
       "      <td>0.482972</td>\n",
       "      <td>0.643714</td>\n",
       "      <td>0.264368</td>\n",
       "      <td>0.525886</td>\n",
       "    </tr>\n",
       "    <tr>\n",
       "      <th>5</th>\n",
       "      <td>5</td>\n",
       "      <td>122.960202</td>\n",
       "      <td>23.941294</td>\n",
       "      <td>0.476194</td>\n",
       "      <td>0.673765</td>\n",
       "      <td>0.479130</td>\n",
       "      <td>0.674686</td>\n",
       "      <td>0.849515</td>\n",
       "      <td>0.928791</td>\n",
       "      <td>0.442424</td>\n",
       "      <td>0.611857</td>\n",
       "      <td>0.432143</td>\n",
       "      <td>0.664882</td>\n",
       "      <td>0.445122</td>\n",
       "      <td>0.640304</td>\n",
       "      <td>0.211765</td>\n",
       "      <td>0.522990</td>\n",
       "    </tr>\n",
       "    <tr>\n",
       "      <th>6</th>\n",
       "      <td>6</td>\n",
       "      <td>123.917390</td>\n",
       "      <td>24.172017</td>\n",
       "      <td>0.488715</td>\n",
       "      <td>0.670843</td>\n",
       "      <td>0.492174</td>\n",
       "      <td>0.671498</td>\n",
       "      <td>0.871429</td>\n",
       "      <td>0.930090</td>\n",
       "      <td>0.434389</td>\n",
       "      <td>0.607759</td>\n",
       "      <td>0.446397</td>\n",
       "      <td>0.657478</td>\n",
       "      <td>0.487654</td>\n",
       "      <td>0.640856</td>\n",
       "      <td>0.203704</td>\n",
       "      <td>0.518031</td>\n",
       "    </tr>\n",
       "    <tr>\n",
       "      <th>7</th>\n",
       "      <td>7</td>\n",
       "      <td>123.690928</td>\n",
       "      <td>24.163566</td>\n",
       "      <td>0.464383</td>\n",
       "      <td>0.673539</td>\n",
       "      <td>0.469565</td>\n",
       "      <td>0.673816</td>\n",
       "      <td>0.830846</td>\n",
       "      <td>0.926667</td>\n",
       "      <td>0.435045</td>\n",
       "      <td>0.607631</td>\n",
       "      <td>0.460733</td>\n",
       "      <td>0.661188</td>\n",
       "      <td>0.360656</td>\n",
       "      <td>0.655022</td>\n",
       "      <td>0.234637</td>\n",
       "      <td>0.517187</td>\n",
       "    </tr>\n",
       "    <tr>\n",
       "      <th>8</th>\n",
       "      <td>8</td>\n",
       "      <td>125.701959</td>\n",
       "      <td>24.764277</td>\n",
       "      <td>0.465887</td>\n",
       "      <td>0.674262</td>\n",
       "      <td>0.466087</td>\n",
       "      <td>0.675169</td>\n",
       "      <td>0.802030</td>\n",
       "      <td>0.931458</td>\n",
       "      <td>0.428571</td>\n",
       "      <td>0.612091</td>\n",
       "      <td>0.441739</td>\n",
       "      <td>0.662276</td>\n",
       "      <td>0.384365</td>\n",
       "      <td>0.644918</td>\n",
       "      <td>0.272727</td>\n",
       "      <td>0.520565</td>\n",
       "    </tr>\n",
       "    <tr>\n",
       "      <th>9</th>\n",
       "      <td>9</td>\n",
       "      <td>124.886993</td>\n",
       "      <td>24.241044</td>\n",
       "      <td>0.491410</td>\n",
       "      <td>0.672266</td>\n",
       "      <td>0.490435</td>\n",
       "      <td>0.673623</td>\n",
       "      <td>0.835443</td>\n",
       "      <td>0.931423</td>\n",
       "      <td>0.466770</td>\n",
       "      <td>0.612304</td>\n",
       "      <td>0.448336</td>\n",
       "      <td>0.660423</td>\n",
       "      <td>0.469880</td>\n",
       "      <td>0.636536</td>\n",
       "      <td>0.236620</td>\n",
       "      <td>0.520643</td>\n",
       "    </tr>\n",
       "  </tbody>\n",
       "</table>\n",
       "</div>"
      ],
      "text/plain": [
       "   Unnamed: 0    fit_time  score_time  test_f1_macro  train_f1_macro  \\\n",
       "0           0  125.100386   24.690894       0.463118        0.676012   \n",
       "1           1  125.619709   24.463188       0.478332        0.676797   \n",
       "2           2  125.548625   24.964564       0.450710        0.669964   \n",
       "3           3  122.418953   23.991990       0.462421        0.674119   \n",
       "4           4  122.992603   23.913206       0.491908        0.675565   \n",
       "5           5  122.960202   23.941294       0.476194        0.673765   \n",
       "6           6  123.917390   24.172017       0.488715        0.670843   \n",
       "7           7  123.690928   24.163566       0.464383        0.673539   \n",
       "8           8  125.701959   24.764277       0.465887        0.674262   \n",
       "9           9  124.886993   24.241044       0.491410        0.672266   \n",
       "\n",
       "   test_accuracy  train_accuracy  test_f1_class_1  train_f1_class_1  \\\n",
       "0       0.460870        0.676715         0.786632          0.930328   \n",
       "1       0.482609        0.677585         0.830000          0.929780   \n",
       "2       0.452174        0.671014         0.827930          0.929339   \n",
       "3       0.461739        0.674300         0.851485          0.929982   \n",
       "4       0.486957        0.676522         0.828283          0.929852   \n",
       "5       0.479130        0.674686         0.849515          0.928791   \n",
       "6       0.492174        0.671498         0.871429          0.930090   \n",
       "7       0.469565        0.673816         0.830846          0.926667   \n",
       "8       0.466087        0.675169         0.802030          0.931458   \n",
       "9       0.490435        0.673623         0.835443          0.931423   \n",
       "\n",
       "   test_f1_class_2  train_f1_class_2  test_f1_class_3  train_f1_class_3  \\\n",
       "0         0.425197          0.611879         0.422259          0.666119   \n",
       "1         0.451713          0.615967         0.465195          0.665157   \n",
       "2         0.433483          0.606234         0.386087          0.659697   \n",
       "3         0.400000          0.610084         0.423012          0.656295   \n",
       "4         0.430956          0.615523         0.452962          0.662848   \n",
       "5         0.442424          0.611857         0.432143          0.664882   \n",
       "6         0.434389          0.607759         0.446397          0.657478   \n",
       "7         0.435045          0.607631         0.460733          0.661188   \n",
       "8         0.428571          0.612091         0.441739          0.662276   \n",
       "9         0.466770          0.612304         0.448336          0.660423   \n",
       "\n",
       "   test_f1_class_4  train_f1_class_4  test_f1_class_5  train_f1_class_5  \n",
       "0         0.460606          0.642767         0.220896          0.528967  \n",
       "1         0.474164          0.648513         0.170588          0.524570  \n",
       "2         0.394904          0.641711         0.211144          0.512837  \n",
       "3         0.466877          0.648886         0.170732          0.525349  \n",
       "4         0.482972          0.643714         0.264368          0.525886  \n",
       "5         0.445122          0.640304         0.211765          0.522990  \n",
       "6         0.487654          0.640856         0.203704          0.518031  \n",
       "7         0.360656          0.655022         0.234637          0.517187  \n",
       "8         0.384365          0.644918         0.272727          0.520565  \n",
       "9         0.469880          0.636536         0.236620          0.520643  "
      ]
     },
     "execution_count": 112,
     "metadata": {},
     "output_type": "execute_result"
    }
   ],
   "source": [
    "knn_fft_results = pd.read_csv('kNN_fft_scoring_results.csv')\n",
    "knn_fft_results"
   ]
  },
  {
   "cell_type": "code",
   "execution_count": 114,
   "metadata": {},
   "outputs": [
    {
     "name": "stdout",
     "output_type": "stream",
     "text": [
      "Tačnost na skupu za obučavanje je  0.6744927536231884  , a F1 skor je  0.6737130581432649\n"
     ]
    }
   ],
   "source": [
    "print('Tačnost na skupu za obučavanje je ', knn_fft_results['train_accuracy'].mean(), \n",
    "      ' , a F1 skor je ', knn_fft_results['train_f1_macro'].mean())"
   ]
  },
  {
   "cell_type": "code",
   "execution_count": 115,
   "metadata": {},
   "outputs": [
    {
     "name": "stdout",
     "output_type": "stream",
     "text": [
      "Ukupno vreme izvršavanja ugnježđene unakrsne validacije modela je trajalo 0.4128177196449704 sati.\n"
     ]
    }
   ],
   "source": [
    "print('Ukupno vreme izvršavanja ugnježđene unakrsne validacije modela je trajalo', \n",
    "      (knn_fft_results['fit_time'].sum() + knn_fft_results['score_time'].sum())/3600, 'sati.')"
   ]
  },
  {
   "cell_type": "markdown",
   "metadata": {},
   "source": [
    "### Rezultati na testnom skupu"
   ]
  },
  {
   "cell_type": "code",
   "execution_count": 116,
   "metadata": {},
   "outputs": [
    {
     "data": {
      "text/plain": [
       "test_accuracy      0.474174\n",
       "test_f1_macro      0.473308\n",
       "test_f1_class_1    0.831359\n",
       "test_f1_class_2    0.434855\n",
       "test_f1_class_3    0.437886\n",
       "test_f1_class_4    0.442720\n",
       "test_f1_class_5    0.219718\n",
       "dtype: float64"
      ]
     },
     "execution_count": 116,
     "metadata": {},
     "output_type": "execute_result"
    }
   ],
   "source": [
    "knn_fft_results.mean()[['test_accuracy', 'test_f1_macro', 'test_f1_class_1', 'test_f1_class_2', 'test_f1_class_3', \n",
    "                   'test_f1_class_4', 'test_f1_class_5']]"
   ]
  },
  {
   "cell_type": "markdown",
   "metadata": {},
   "source": [
    "## Kovolutivne neuronske mreže <a class=\"anchor\" id=\"cnn\"></a>"
   ]
  },
  {
   "cell_type": "markdown",
   "metadata": {},
   "source": [
    "U ovom odeljku razvićemo jednodimenzionalnu konvolutivnu neuronsku mrežu (1D CNN).   \n",
    "Konvolutivne neuronske mreže koriste se najčešće za probleme klasifikacije slika, pri čemu model uči strukturu dvodimenzionalnog ulaza, u procesu koji se naziva učenje atributa (feature learning).  \n",
    "Isti taj postupak može se koristiti na jednodimenzionalnim nizovima podataka, kao što su u našem slučaju EEG snimci za prepoznavanje ljudske moždane aktivnosti. Model uči da pronalazi atribute iz nizova opservacija sirovih podataka i kako da ih mapira na različite vrste aktivnosti koje treba da prepozna. CNN je neuronska mreža sa slojevima koja koristi klizajuće filtere fiksne dužine za koje pretpostavljamo da su korisni za sekvencijalne podatke zbog njihove invarijantnosti na šiftovanje podataka.  \n",
    "Uobičajena struktura konvolutivne mreže podrazumeva smenjivanje dve vrste slojeva – konvolutivnih slojeva (convolution layer) i slojeva agregacije (pooling layer). Izlazi konvolutivnih slojeva se transformišu nelinearnom aktivacionom funkcijom. Na izlaze poslednjeg od tih slojeva se obično nadovezuje potpuno povezana mreža."
   ]
  },
  {
   "cell_type": "markdown",
   "metadata": {},
   "source": [
    "![](An-illustration-of-one-one-dimensional-1D-cnn.png)"
   ]
  },
  {
   "cell_type": "markdown",
   "metadata": {},
   "source": [
    "Opisaćemo strukturu konvolutivne neuronske mreže korišćene u našem radu pomoću Keras biblioteke:  \n",
    "* prvo da napomenemo da model zahteva trodimenzionalni ulaz oblika (broj opservacija, broj atributa, 1), gde 1 predstavlja vremenski korak\n",
    "* na početku dodajemo dva jednodimenzionalna konvolutivna sloja sa ReLU aktivacionom funkcijom (ispravljena linearna jedinica)\n",
    "* onda jedan sloj agregacije sa funkcijom maksimuma\n",
    "* zatim opet slede dva jednodimenzionalna konvolutivna sloja sa ReLU aktivacionom funkcijom samo sada sa dva puta većim filterom\n",
    "* onda jedan sloj agregacije funkcijom globalnog proseka \n",
    "* dodajemo dropout sloj kao način regularizacije izostavljanjem neurona\n",
    "* na kraju je jedan potpuno povezani sloj sa softmax aktivacionom funkcijom koji kao izlaz vraća verovatnoće pripadanja svakoj od klasa koje predvidjamo \n"
   ]
  },
  {
   "cell_type": "markdown",
   "metadata": {},
   "source": [
    "Kao funkciju greške zadajemo kategoričku unakrsnu entropiju (ciljnu promenljivu posmatramo kao dummy varijablu), a Adam kao provereni optimizacioni algoritam."
   ]
  },
  {
   "cell_type": "code",
   "execution_count": 26,
   "metadata": {},
   "outputs": [],
   "source": [
    "def mreza(input_shape, num_classes,window, dropout):\n",
    "    model = Sequential()\n",
    "    model.add(Conv1D(filter_cnn, window, activation='relu', input_shape=input_shape))\n",
    "    model.add(Conv1D(filter_cnn, window, activation='relu'))\n",
    "    model.add(MaxPooling1D(pool))\n",
    "    model.add(Conv1D(filter_cnn * 2, window, activation='relu'))\n",
    "    model.add(Conv1D(filter_cnn * 2, window, activation='relu'))\n",
    "    model.add(GlobalAveragePooling1D())\n",
    "    model.add(Dropout(dropout))\n",
    "    model.add(Dense(num_classes, activation='softmax'))\n",
    "    model.compile(loss='sparse_categorical_crossentropy', optimizer='adam', metrics=['accuracy'])\n",
    "    return model"
   ]
  },
  {
   "cell_type": "markdown",
   "metadata": {},
   "source": [
    "Detaljan proces obučavanja neuronske mreže kao i vrednosti korišćenih parametara zajedno sa njihovim izborom mogu se pronaći na sledećim lokacijama: [CNN](https://github.com/ananikolic96/ML/blob/master/cnn.ipynb) i [CNN sa Furijeovom transformacijom](https://github.com/Vildana96/Projects/blob/master/cnn_f.ipynb)."
   ]
  },
  {
   "cell_type": "markdown",
   "metadata": {},
   "source": [
    "### Evaluacija  konvolutivne neuronske mreže "
   ]
  },
  {
   "cell_type": "code",
   "execution_count": 53,
   "metadata": {},
   "outputs": [],
   "source": [
    "import joblib\n",
    "cnn_model = joblib.load(\"cnn.joblib\")"
   ]
  },
  {
   "cell_type": "code",
   "execution_count": 54,
   "metadata": {},
   "outputs": [
    {
     "data": {
      "text/plain": [
       "{'input_shape': (178, 1),\n",
       " 'num_classes': 5,\n",
       " 'window': 15,\n",
       " 'dropout': 0.1,\n",
       " 'epochs': 25,\n",
       " 'build_fn': <function __main__.mreza(input_shape, num_classes, window, dropout)>}"
      ]
     },
     "execution_count": 54,
     "metadata": {},
     "output_type": "execute_result"
    }
   ],
   "source": [
    "cnn_model.get_params()"
   ]
  },
  {
   "cell_type": "code",
   "execution_count": 55,
   "metadata": {},
   "outputs": [
    {
     "data": {
      "text/plain": [
       "{'dropout': 0.1, 'window': 15}"
      ]
     },
     "execution_count": 55,
     "metadata": {},
     "output_type": "execute_result"
    }
   ],
   "source": [
    "best_params = {'dropout' : cnn_model.get_params()['dropout'], 'window' : cnn_model.get_params()['window']}\n",
    "best_params"
   ]
  },
  {
   "cell_type": "code",
   "execution_count": 56,
   "metadata": {},
   "outputs": [],
   "source": [
    "best_window = best_params['window']\n",
    "best_dropout = best_params['dropout']"
   ]
  },
  {
   "cell_type": "code",
   "execution_count": 59,
   "metadata": {},
   "outputs": [
    {
     "data": {
      "text/plain": [
       "(12, 183)"
      ]
     },
     "execution_count": 59,
     "metadata": {},
     "output_type": "execute_result"
    }
   ],
   "source": [
    "cnn_results = pd.read_csv('raw_cnn_cv_results.csv')\n",
    "cnn_results.shape"
   ]
  },
  {
   "cell_type": "code",
   "execution_count": 61,
   "metadata": {},
   "outputs": [
    {
     "data": {
      "text/html": [
       "<div>\n",
       "<style scoped>\n",
       "    .dataframe tbody tr th:only-of-type {\n",
       "        vertical-align: middle;\n",
       "    }\n",
       "\n",
       "    .dataframe tbody tr th {\n",
       "        vertical-align: top;\n",
       "    }\n",
       "\n",
       "    .dataframe thead th {\n",
       "        text-align: right;\n",
       "    }\n",
       "</style>\n",
       "<table border=\"1\" class=\"dataframe\">\n",
       "  <thead>\n",
       "    <tr style=\"text-align: right;\">\n",
       "      <th></th>\n",
       "      <th>Unnamed: 0</th>\n",
       "      <th>mean_fit_time</th>\n",
       "      <th>std_fit_time</th>\n",
       "      <th>mean_score_time</th>\n",
       "      <th>std_score_time</th>\n",
       "      <th>param_dropout</th>\n",
       "      <th>param_window</th>\n",
       "      <th>params</th>\n",
       "      <th>split0_test_f1_macro</th>\n",
       "      <th>split1_test_f1_macro</th>\n",
       "      <th>...</th>\n",
       "      <th>split2_train_f1_class_5</th>\n",
       "      <th>split3_train_f1_class_5</th>\n",
       "      <th>split4_train_f1_class_5</th>\n",
       "      <th>split5_train_f1_class_5</th>\n",
       "      <th>split6_train_f1_class_5</th>\n",
       "      <th>split7_train_f1_class_5</th>\n",
       "      <th>split8_train_f1_class_5</th>\n",
       "      <th>split9_train_f1_class_5</th>\n",
       "      <th>mean_train_f1_class_5</th>\n",
       "      <th>std_train_f1_class_5</th>\n",
       "    </tr>\n",
       "  </thead>\n",
       "  <tbody>\n",
       "    <tr>\n",
       "      <th>2</th>\n",
       "      <td>2</td>\n",
       "      <td>484.809858</td>\n",
       "      <td>4.945256</td>\n",
       "      <td>0.499112</td>\n",
       "      <td>0.011868</td>\n",
       "      <td>0.1</td>\n",
       "      <td>15</td>\n",
       "      <td>{'dropout': 0.1, 'window': 15}</td>\n",
       "      <td>0.776124</td>\n",
       "      <td>0.794695</td>\n",
       "      <td>...</td>\n",
       "      <td>0.947511</td>\n",
       "      <td>0.948021</td>\n",
       "      <td>0.927242</td>\n",
       "      <td>0.963014</td>\n",
       "      <td>0.906296</td>\n",
       "      <td>0.913465</td>\n",
       "      <td>0.947973</td>\n",
       "      <td>0.948138</td>\n",
       "      <td>0.942388</td>\n",
       "      <td>0.019355</td>\n",
       "    </tr>\n",
       "  </tbody>\n",
       "</table>\n",
       "<p>1 rows × 183 columns</p>\n",
       "</div>"
      ],
      "text/plain": [
       "   Unnamed: 0  mean_fit_time  std_fit_time  mean_score_time  std_score_time  \\\n",
       "2           2     484.809858      4.945256         0.499112        0.011868   \n",
       "\n",
       "   param_dropout  param_window                          params  \\\n",
       "2            0.1            15  {'dropout': 0.1, 'window': 15}   \n",
       "\n",
       "   split0_test_f1_macro  split1_test_f1_macro  ...  split2_train_f1_class_5  \\\n",
       "2              0.776124              0.794695  ...                 0.947511   \n",
       "\n",
       "   split3_train_f1_class_5  split4_train_f1_class_5  split5_train_f1_class_5  \\\n",
       "2                 0.948021                 0.927242                 0.963014   \n",
       "\n",
       "   split6_train_f1_class_5  split7_train_f1_class_5  split8_train_f1_class_5  \\\n",
       "2                 0.906296                 0.913465                 0.947973   \n",
       "\n",
       "   split9_train_f1_class_5  mean_train_f1_class_5  std_train_f1_class_5  \n",
       "2                 0.948138               0.942388              0.019355  \n",
       "\n",
       "[1 rows x 183 columns]"
      ]
     },
     "execution_count": 61,
     "metadata": {},
     "output_type": "execute_result"
    }
   ],
   "source": [
    "cnn_model_scores = cnn_results[(cnn_results.param_dropout==best_dropout) &\n",
    "                                       (cnn_results.param_window==best_window)]\n",
    "cnn_model_scores"
   ]
  },
  {
   "cell_type": "code",
   "execution_count": 62,
   "metadata": {},
   "outputs": [
    {
     "name": "stdout",
     "output_type": "stream",
     "text": [
      "Tačnost na trening skupu je  0.9180538302277432 , a F1 skor je  0.9176452579755172\n"
     ]
    }
   ],
   "source": [
    "print('Tačnost na trening skupu je ', cnn_model_scores['mean_train_accuracy'].values[0], \n",
    "      ', a F1 skor je ', cnn_model_scores['mean_train_f1_macro'].values[0]\n",
    ")"
   ]
  },
  {
   "cell_type": "code",
   "execution_count": 64,
   "metadata": {},
   "outputs": [
    {
     "name": "stdout",
     "output_type": "stream",
     "text": [
      "Ukupno vreme treniranja modela je trajalo 14.585562719371584 sati.\n"
     ]
    }
   ],
   "source": [
    "print('Ukupno vreme treniranja modela je trajalo', (cnn_results['mean_fit_time'].sum() + cnn_results['mean_score_time'].sum())*10/3600, 'sati.')"
   ]
  },
  {
   "cell_type": "markdown",
   "metadata": {},
   "source": [
    "### Rezultati na testnom skupu"
   ]
  },
  {
   "cell_type": "markdown",
   "metadata": {},
   "source": [
    "![](cnn_report.PNG)"
   ]
  },
  {
   "cell_type": "markdown",
   "metadata": {},
   "source": [
    "![](cnn_matrix.PNG)"
   ]
  },
  {
   "cell_type": "markdown",
   "metadata": {},
   "source": [
    "### Evaluacija  konvolutivne neuronske mreže sa primenom Furijeove transformacije\n"
   ]
  },
  {
   "cell_type": "code",
   "execution_count": 25,
   "metadata": {},
   "outputs": [],
   "source": [
    "cnn_fft_model = joblib.load(\"cnn_fft.joblib\")"
   ]
  },
  {
   "cell_type": "code",
   "execution_count": 30,
   "metadata": {},
   "outputs": [
    {
     "data": {
      "text/plain": [
       "{'input_shape': (90, 1),\n",
       " 'num_classes': 5,\n",
       " 'window': 7,\n",
       " 'dropout': 0.2,\n",
       " 'epochs': 25,\n",
       " 'build_fn': <function __main__.mreza(input_shape, num_classes, window, dropout)>}"
      ]
     },
     "execution_count": 30,
     "metadata": {},
     "output_type": "execute_result"
    }
   ],
   "source": [
    "cnn_fft_model.get_params()"
   ]
  },
  {
   "cell_type": "code",
   "execution_count": 31,
   "metadata": {},
   "outputs": [
    {
     "data": {
      "text/plain": [
       "{'dropout': 0.2, 'window': 7}"
      ]
     },
     "execution_count": 31,
     "metadata": {},
     "output_type": "execute_result"
    }
   ],
   "source": [
    "best_params = {'dropout' : cnn_fft_model.get_params()['dropout'], 'window' : cnn_fft_model.get_params()['window']}\n",
    "best_params"
   ]
  },
  {
   "cell_type": "code",
   "execution_count": 50,
   "metadata": {},
   "outputs": [],
   "source": [
    "best_window = best_params['window']\n",
    "best_dropout = best_params['dropout']"
   ]
  },
  {
   "cell_type": "code",
   "execution_count": 45,
   "metadata": {},
   "outputs": [
    {
     "data": {
      "text/plain": [
       "(9, 183)"
      ]
     },
     "execution_count": 45,
     "metadata": {},
     "output_type": "execute_result"
    }
   ],
   "source": [
    "cnn_fft_results = pd.read_csv('grid_f_cnn_scoring_results.csv')\n",
    "cnn_fft_results.shape"
   ]
  },
  {
   "cell_type": "code",
   "execution_count": 81,
   "metadata": {},
   "outputs": [
    {
     "data": {
      "text/html": [
       "<div>\n",
       "<style scoped>\n",
       "    .dataframe tbody tr th:only-of-type {\n",
       "        vertical-align: middle;\n",
       "    }\n",
       "\n",
       "    .dataframe tbody tr th {\n",
       "        vertical-align: top;\n",
       "    }\n",
       "\n",
       "    .dataframe thead th {\n",
       "        text-align: right;\n",
       "    }\n",
       "</style>\n",
       "<table border=\"1\" class=\"dataframe\">\n",
       "  <thead>\n",
       "    <tr style=\"text-align: right;\">\n",
       "      <th></th>\n",
       "      <th>Unnamed: 0</th>\n",
       "      <th>mean_fit_time</th>\n",
       "      <th>std_fit_time</th>\n",
       "      <th>mean_score_time</th>\n",
       "      <th>std_score_time</th>\n",
       "      <th>param_dropout</th>\n",
       "      <th>param_window</th>\n",
       "      <th>params</th>\n",
       "      <th>split0_test_f1_macro</th>\n",
       "      <th>split1_test_f1_macro</th>\n",
       "      <th>...</th>\n",
       "      <th>split2_train_f1_class_5</th>\n",
       "      <th>split3_train_f1_class_5</th>\n",
       "      <th>split4_train_f1_class_5</th>\n",
       "      <th>split5_train_f1_class_5</th>\n",
       "      <th>split6_train_f1_class_5</th>\n",
       "      <th>split7_train_f1_class_5</th>\n",
       "      <th>split8_train_f1_class_5</th>\n",
       "      <th>split9_train_f1_class_5</th>\n",
       "      <th>mean_train_f1_class_5</th>\n",
       "      <th>std_train_f1_class_5</th>\n",
       "    </tr>\n",
       "  </thead>\n",
       "  <tbody>\n",
       "    <tr>\n",
       "      <th>4</th>\n",
       "      <td>4</td>\n",
       "      <td>272.529417</td>\n",
       "      <td>7.798654</td>\n",
       "      <td>6.412987</td>\n",
       "      <td>0.259565</td>\n",
       "      <td>0.2</td>\n",
       "      <td>7</td>\n",
       "      <td>{'dropout': 0.2, 'window': 7}</td>\n",
       "      <td>0.737678</td>\n",
       "      <td>0.772217</td>\n",
       "      <td>...</td>\n",
       "      <td>0.974429</td>\n",
       "      <td>0.923669</td>\n",
       "      <td>0.950544</td>\n",
       "      <td>0.969655</td>\n",
       "      <td>0.95992</td>\n",
       "      <td>0.978402</td>\n",
       "      <td>0.969656</td>\n",
       "      <td>0.964965</td>\n",
       "      <td>0.958815</td>\n",
       "      <td>0.01606</td>\n",
       "    </tr>\n",
       "  </tbody>\n",
       "</table>\n",
       "<p>1 rows × 183 columns</p>\n",
       "</div>"
      ],
      "text/plain": [
       "   Unnamed: 0  mean_fit_time  std_fit_time  mean_score_time  std_score_time  \\\n",
       "4           4     272.529417      7.798654         6.412987        0.259565   \n",
       "\n",
       "   param_dropout  param_window                         params  \\\n",
       "4            0.2             7  {'dropout': 0.2, 'window': 7}   \n",
       "\n",
       "   split0_test_f1_macro  split1_test_f1_macro  ...  split2_train_f1_class_5  \\\n",
       "4              0.737678              0.772217  ...                 0.974429   \n",
       "\n",
       "   split3_train_f1_class_5  split4_train_f1_class_5  split5_train_f1_class_5  \\\n",
       "4                 0.923669                 0.950544                 0.969655   \n",
       "\n",
       "   split6_train_f1_class_5  split7_train_f1_class_5  split8_train_f1_class_5  \\\n",
       "4                  0.95992                 0.978402                 0.969656   \n",
       "\n",
       "   split9_train_f1_class_5  mean_train_f1_class_5  std_train_f1_class_5  \n",
       "4                 0.964965               0.958815               0.01606  \n",
       "\n",
       "[1 rows x 183 columns]"
      ]
     },
     "execution_count": 81,
     "metadata": {},
     "output_type": "execute_result"
    }
   ],
   "source": [
    "cnn_fft_model_scores = cnn_fft_results[(cnn_fft_results.param_dropout==best_dropout) &\n",
    "                                       (cnn_fft_results.param_window==best_window)]\n",
    "cnn_fft_model_scores"
   ]
  },
  {
   "cell_type": "code",
   "execution_count": 98,
   "metadata": {},
   "outputs": [
    {
     "name": "stdout",
     "output_type": "stream",
     "text": [
      "Tačnost na trening skupu je  0.901559696342305 , a F1 skor je  0.9010647972918822\n"
     ]
    }
   ],
   "source": [
    "print('Tačnost na trening skupu je ', cnn_fft_model_scores['mean_train_accuracy'].values[0], \n",
    "      ', a F1 skor je ', cnn_fft_model_scores['mean_train_f1_macro'].values[0]\n",
    ")"
   ]
  },
  {
   "cell_type": "code",
   "execution_count": 99,
   "metadata": {},
   "outputs": [
    {
     "name": "stdout",
     "output_type": "stream",
     "text": [
      "Ukupno vreme treniranja modela je trajalo 6.989320650630525 sati.\n"
     ]
    }
   ],
   "source": [
    "print('Ukupno vreme treniranja modela je trajalo', (cnn_fft_results['mean_fit_time'].sum() + cnn_fft_results['mean_score_time'].sum())*10/3600, 'sati.')"
   ]
  },
  {
   "cell_type": "markdown",
   "metadata": {},
   "source": [
    "### Rezultati na testnom skupu"
   ]
  },
  {
   "cell_type": "markdown",
   "metadata": {},
   "source": [
    "![](cnn_fft_report.PNG)"
   ]
  },
  {
   "cell_type": "markdown",
   "metadata": {},
   "source": [
    "![](cnn_fft_matrix.PNG)"
   ]
  },
  {
   "cell_type": "markdown",
   "metadata": {},
   "source": [
    "## Rezultati <a class=\"anchor\" id=\"rezultati\"></a>  \n",
    "U sledećoj tabeli sumirani su rezultati svih spomenutih metoda sa i bez upotrebe Furijeove transformacije podataka. Kao meru za evaluaciju koristili smo tačnost predviđanja, F1 skor kao i njegove vrednosti po klasama. Takođe, treba napomenuti da rezultati za algoritam k najbližih suseda i konvolutivne neuronske mreže nisu dobijeni na isti način, jer smo prvi metod evaluirali ugnježđenom unakrsnom validacijom dok smo za drugi to uradili na testnom skupu."
   ]
  },
  {
   "cell_type": "markdown",
   "metadata": {},
   "source": [
    "![](rezultati.PNG)"
   ]
  },
  {
   "cell_type": "markdown",
   "metadata": {},
   "source": [
    "## Zaključak <a class=\"anchor\" id=\"zaključak\"></a>  \n",
    "\n",
    "Iz prethodne tabele sa rezultatima vidimo da konvultivna neuronska mreža postiže značajno bolje rezultate od algoritma k najbližih suseda. Možemo primetiti da postoji veoma mala razlika u performansama oba modela sa i bez Furijeove transformacije dok je, kao što je gore spomenuto, vreme obučavanja modela znatno kraće kada se primeni Furijeova transformacija, što opravdava prvobitnu ideju za njeno korišćenje. Takođe, primetimo da je F1 skor za klasu 1 - epileptički napad, primetno bolji nego za ostale klase što znači da klasu 1 dobro razdvajamo od ostalih i pri tome pravimo najmanju grešku pri identifikaciji epiliptičke moždane aktivnosti, a to je bio i cilj rada.  \n",
    "Kao što se vidi iz priloženih rezultata, postoji određeno preprilagođavanje svih modela podacima. Taj problem smo pokušali da otklonimo podešavanjem regularizacionih parametara kod konvolutivne neuronske mreže ([CNN_sa_regularizacijom](https://github.com/Vildana96/Projects/blob/master/cnn_f_reg.ipynb)), međutim smanjenjem preprilagođavanja dobili smo i nešto slabije rezultate modela. Svakako, ovo je tema za budući rad i istraživanje. "
   ]
  },
  {
   "cell_type": "markdown",
   "metadata": {},
   "source": [
    "## Literatura <a class=\"anchor\" id=\"ref\"></a>"
   ]
  },
  {
   "cell_type": "markdown",
   "metadata": {},
   "source": [
    "* [Data](https://archive.ics.uci.edu/ml/datasets/Epileptic+Seizure+Recognition)\n",
    "* [Identifying Brain Activity from EEG Recordings](http://cs229.stanford.edu/proj2019aut/data/assignment_308832_raw/26578343.pdf)\n",
    "* [Fourier Transformation for a Data Scientist](https://medium.com/swlh/fourier-transformation-for-a-data-scientist-1f3731115097 )\n",
    "* [Indications of nonlinear deterministic and finite-dimensional structures in time series of brain electrical activity: Dependence on recording region and brain state](https://www.researchgate.net/publication/11620616_Indications_of_nonlinear_deterministic_and_finite-dimensional_structures_in_time_series_of_brain_electrical_activity_Dependence_on_recording_region_and_brain_state)\n",
    "* [Epileptic Seizure Detection Based on EEG Signals and CNN](https://www.frontiersin.org/articles/10.3389/fninf.2018.00095/full)\n",
    "* [Diskretne transformacije\n",
    "signala, primene i algoritmi](https://matematika.pmf.uns.ac.rs/wp-content/uploads/zavrsni-radovi/primenjena_matematika/KatarinaKovacevic.pdf)\n",
    "* [FURIJEOVA TRANSFORMACIJA ](https://dsp.etfbl.net/tek2/aoks/09%20Glava%206%20Furijeova%20transformacija.pdf)\n",
    "* [Learning Rate Tuning in Deep Learning: A Practical Guide](https://mlexplained.com/2018/01/29/learning-rate-tuning-in-deep-learning-a-practical-guide/#:~:text=One%20is%20that%20larger%20learning,acts%20as%20an%20implicit%20regularizer.&text=If%20you%20find%20your%20model,the%20model%20to%20generalize%20poorly.)\n",
    "* [How to Develop 1D Convolutional Neural Network Models for Human Activity Recognition](https://machinelearningmastery.com/cnn-models-for-human-activity-recognition-time-series-classification/)\n",
    "* [Keras Conv1D: Working with 1D Convolutional Neural Networks in Keras](https://missinglink.ai/guides/keras/keras-conv1d-working-1d-convolutional-neural-networks-keras/)"
   ]
  },
  {
   "cell_type": "code",
   "execution_count": null,
   "metadata": {},
   "outputs": [],
   "source": []
  }
 ],
 "metadata": {
  "kernelspec": {
   "display_name": "Python 3",
   "language": "python",
   "name": "python3"
  },
  "language_info": {
   "codemirror_mode": {
    "name": "ipython",
    "version": 3
   },
   "file_extension": ".py",
   "mimetype": "text/x-python",
   "name": "python",
   "nbconvert_exporter": "python",
   "pygments_lexer": "ipython3",
   "version": "3.6.10"
  }
 },
 "nbformat": 4,
 "nbformat_minor": 4
}
