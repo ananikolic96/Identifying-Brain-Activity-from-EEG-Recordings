{
 "cells": [
  {
   "cell_type": "code",
   "execution_count": 230,
   "metadata": {},
   "outputs": [],
   "source": [
    "import numpy as np\n",
    "import matplotlib.pyplot as plt\n",
    "import pandas as pd\n",
    "import keras\n",
    "import tensorflow\n",
    "from sklearn import model_selection\n",
    "from sklearn import metrics\n",
    "import matplotlib.pyplot as plt"
   ]
  },
  {
   "cell_type": "code",
   "execution_count": 231,
   "metadata": {},
   "outputs": [],
   "source": [
    "data = pd.read_csv('data.csv')"
   ]
  },
  {
   "cell_type": "code",
   "execution_count": 232,
   "metadata": {},
   "outputs": [],
   "source": [
    "data.drop(columns=['Unnamed: 0'], inplace = True)"
   ]
  },
  {
   "cell_type": "code",
   "execution_count": 233,
   "metadata": {},
   "outputs": [],
   "source": [
    "y = data.iloc[:, -1]"
   ]
  },
  {
   "cell_type": "code",
   "execution_count": 234,
   "metadata": {},
   "outputs": [],
   "source": [
    "X = data.iloc[:, :data.shape[1] - 1]"
   ]
  },
  {
   "cell_type": "code",
   "execution_count": 235,
   "metadata": {},
   "outputs": [],
   "source": [
    "cnn_par_f = {\n",
    "    'window': [3, 7, 11],\n",
    "    'dropout': [0.1, 0.2, 0.5]\n",
    "}\n",
    "cnn_par_raw= {\n",
    "    'window': [3, 11, 15, 19],\n",
    "    'dropout': [0.1, 0.2, 0.5]\n",
    "}"
   ]
  },
  {
   "cell_type": "code",
   "execution_count": 236,
   "metadata": {},
   "outputs": [],
   "source": [
    "from keras.layers import Dense\n",
    "from keras.layers import Dropout\n",
    "from keras.layers import GlobalAveragePooling1D\n",
    "from keras.layers.convolutional import Conv1D\n",
    "from keras.layers.convolutional import MaxPooling1D\n",
    "from keras.models import Sequential\n",
    "from keras.wrappers.scikit_learn import KerasClassifier"
   ]
  },
  {
   "cell_type": "code",
   "execution_count": 237,
   "metadata": {},
   "outputs": [],
   "source": [
    "from sklearn import preprocessing"
   ]
  },
  {
   "cell_type": "code",
   "execution_count": 238,
   "metadata": {},
   "outputs": [],
   "source": [
    "filter_cnn = 64\n",
    "num_classes = len(np.unique(y))\n",
    "epochs = 25\n",
    "K=10"
   ]
  },
  {
   "cell_type": "code",
   "execution_count": 239,
   "metadata": {},
   "outputs": [],
   "source": [
    "pool = 3\n",
    "classes = np.unique(y)\n",
    "num_classes = len(classes)"
   ]
  },
  {
   "cell_type": "code",
   "execution_count": 240,
   "metadata": {},
   "outputs": [],
   "source": [
    "scoring = {'f1_macro' : 'f1_macro', 'accuracy' : 'accuracy'}\n",
    "for c in classes:\n",
    "    def f1_class(y_true, y_pred, classes, c=c):\n",
    "        return metrics.f1_score(y_true, y_pred, average=None)[c-1]\n",
    "    scoring_name = 'f1_class_%d' % c\n",
    "    scoring[scoring_name] = metrics.make_scorer(f1_class, classes = classes)"
   ]
  },
  {
   "cell_type": "markdown",
   "metadata": {},
   "source": [
    "## Bez transformacija podataka"
   ]
  },
  {
   "cell_type": "code",
   "execution_count": 241,
   "metadata": {},
   "outputs": [],
   "source": [
    "X_train, X_test, y_train, y_test = model_selection.train_test_split(X, y, test_size = 0.3, stratify = y,random_state = 1996)"
   ]
  },
  {
   "cell_type": "code",
   "execution_count": 242,
   "metadata": {},
   "outputs": [],
   "source": [
    "scaler_train = preprocessing.StandardScaler()\n",
    "scaler_train.fit(X_train)\n",
    "X_train = scaler_train.transform(X_train)\n",
    "X_test = scaler_train.transform(X_test)"
   ]
  },
  {
   "cell_type": "code",
   "execution_count": 243,
   "metadata": {},
   "outputs": [],
   "source": [
    "X_train = np.array(X_train)\n",
    "X_test = np.array(X_test)"
   ]
  },
  {
   "cell_type": "code",
   "execution_count": 244,
   "metadata": {},
   "outputs": [],
   "source": [
    "X_train = X_train.reshape(X_train.shape[0], X_train.shape[1], 1)\n",
    "X_test = X_test.reshape(X_test.shape[0], X_test.shape[1], 1)"
   ]
  },
  {
   "cell_type": "code",
   "execution_count": 245,
   "metadata": {},
   "outputs": [],
   "source": [
    "input_shape = (X_train.shape[1], 1)"
   ]
  },
  {
   "cell_type": "code",
   "execution_count": 246,
   "metadata": {},
   "outputs": [],
   "source": [
    "def mreza(input_shape, num_classes,window, dropout):\n",
    "    model = Sequential()\n",
    "    model.add(Conv1D(filter_cnn, window, activation='relu', input_shape=input_shape))\n",
    "    model.add(Conv1D(filter_cnn, window, activation='relu'))\n",
    "    model.add(MaxPooling1D(pool))\n",
    "    model.add(Conv1D(filter_cnn * 2, window, activation='relu'))\n",
    "    model.add(Conv1D(filter_cnn * 2, window, activation='relu'))\n",
    "    model.add(GlobalAveragePooling1D())\n",
    "    model.add(Dropout(dropout))\n",
    "    model.add(Dense(number_of_classes, activation='softmax'))\n",
    "    model.compile(loss='sparse_categorical_crossentropy', optimizer='adam', metrics=['accuracy'])\n",
    "    return model"
   ]
  },
  {
   "cell_type": "code",
   "execution_count": 247,
   "metadata": {},
   "outputs": [],
   "source": [
    "from keras.wrappers.scikit_learn  import KerasClassifier\n",
    "def get_estimator(window=3,dropout=0.5):\n",
    "    return KerasClassifier(build_fn=mreza,input_shape=input_shape, num_classes=num_classes,window=window, dropout=dropout,epochs=epochs)"
   ]
  },
  {
   "cell_type": "code",
   "execution_count": 248,
   "metadata": {},
   "outputs": [],
   "source": [
    "estimator = get_estimator()"
   ]
  },
  {
   "cell_type": "code",
   "execution_count": 249,
   "metadata": {},
   "outputs": [],
   "source": [
    "grid_cnn = model_selection.GridSearchCV(estimator, param_grid=cnn_par, scoring=scoring, cv=10, refit='accuracy', return_train_score=True)"
   ]
  },
  {
   "cell_type": "code",
   "execution_count": null,
   "metadata": {},
   "outputs": [
    {
     "name": "stdout",
     "output_type": "stream",
     "text": [
      "Epoch 1/25\n",
      "7245/7245 [==============================] - 15s 2ms/step - loss: 1.0781 - accuracy: 0.4910\n",
      "Epoch 2/25\n",
      "7245/7245 [==============================] - 14s 2ms/step - loss: 0.8183 - accuracy: 0.6288\n",
      "Epoch 3/25\n",
      "7245/7245 [==============================] - 14s 2ms/step - loss: 0.7740 - accuracy: 0.6349\n",
      "Epoch 4/25\n",
      "7245/7245 [==============================] - 14s 2ms/step - loss: 0.7289 - accuracy: 0.6584 0s - los\n",
      "Epoch 5/25\n",
      "7245/7245 [==============================] - 14s 2ms/step - loss: 0.6717 - accuracy: 0.6810 0s - loss: 0.6727 - accu\n",
      "Epoch 6/25\n",
      "7245/7245 [==============================] - 14s 2ms/step - loss: 0.6619 - accuracy: 0.6864\n",
      "Epoch 7/25\n",
      "7245/7245 [==============================] - 13s 2ms/step - loss: 0.6334 - accuracy: 0.6968\n",
      "Epoch 8/25\n",
      "7245/7245 [==============================] - 14s 2ms/step - loss: 0.6186 - accuracy: 0.7035\n",
      "Epoch 9/25\n",
      "7245/7245 [==============================] - 14s 2ms/step - loss: 0.6119 - accuracy: 0.7077\n",
      "Epoch 10/25\n",
      "7245/7245 [==============================] - 15s 2ms/step - loss: 0.6084 - accuracy: 0.7077\n",
      "Epoch 11/25\n",
      "7245/7245 [==============================] - 14s 2ms/step - loss: 0.5975 - accuracy: 0.7137\n",
      "Epoch 12/25\n",
      "7245/7245 [==============================] - 15s 2ms/step - loss: 0.5869 - accuracy: 0.7182\n",
      "Epoch 13/25\n",
      "7245/7245 [==============================] - 14s 2ms/step - loss: 0.5785 - accuracy: 0.7176\n",
      "Epoch 14/25\n",
      "7245/7245 [==============================] - 14s 2ms/step - loss: 0.5863 - accuracy: 0.7165 1s\n",
      "Epoch 15/25\n",
      "7245/7245 [==============================] - 13s 2ms/step - loss: 0.5665 - accuracy: 0.7217 0s - l\n",
      "Epoch 16/25\n",
      "7245/7245 [==============================] - 13s 2ms/step - loss: 0.5582 - accuracy: 0.7260\n",
      "Epoch 17/25\n",
      "7245/7245 [==============================] - 14s 2ms/step - loss: 0.5508 - accuracy: 0.7317\n",
      "Epoch 18/25\n",
      "7245/7245 [==============================] - 14s 2ms/step - loss: 0.5469 - accuracy: 0.7329\n",
      "Epoch 19/25\n",
      "7245/7245 [==============================] - 15s 2ms/step - loss: 0.5322 - accuracy: 0.7500\n",
      "Epoch 20/25\n",
      "7245/7245 [==============================] - 15s 2ms/step - loss: 0.5315 - accuracy: 0.7419\n",
      "Epoch 21/25\n",
      "7245/7245 [==============================] - 13s 2ms/step - loss: 0.5185 - accuracy: 0.7427\n",
      "Epoch 22/25\n",
      "7245/7245 [==============================] - 13s 2ms/step - loss: 0.5097 - accuracy: 0.7554\n",
      "Epoch 23/25\n",
      "7245/7245 [==============================] - 13s 2ms/step - loss: 0.4993 - accuracy: 0.7601\n",
      "Epoch 24/25\n",
      "7245/7245 [==============================] - 15s 2ms/step - loss: 0.4878 - accuracy: 0.7576\n",
      "Epoch 25/25\n",
      "7245/7245 [==============================] - 14s 2ms/step - loss: 0.4779 - accuracy: 0.7654\n",
      "Epoch 1/25\n",
      "7245/7245 [==============================] - 16s 2ms/step - loss: 1.0841 - accuracy: 0.4987\n",
      "Epoch 2/25\n",
      "7245/7245 [==============================] - 13s 2ms/step - loss: 0.8375 - accuracy: 0.6139\n",
      "Epoch 3/25\n",
      "7245/7245 [==============================] - 13s 2ms/step - loss: 0.7743 - accuracy: 0.6396\n",
      "Epoch 4/25\n",
      "7245/7245 [==============================] - 14s 2ms/step - loss: 0.7247 - accuracy: 0.6625\n",
      "Epoch 5/25\n",
      "7245/7245 [==============================] - 14s 2ms/step - loss: 0.6766 - accuracy: 0.6776\n",
      "Epoch 6/25\n",
      "7245/7245 [==============================] - 14s 2ms/step - loss: 0.6420 - accuracy: 0.6875\n",
      "Epoch 7/25\n",
      "7245/7245 [==============================] - 14s 2ms/step - loss: 0.6181 - accuracy: 0.7002\n",
      "Epoch 8/25\n",
      "7245/7245 [==============================] - 14s 2ms/step - loss: 0.6044 - accuracy: 0.6997 0s - loss: 0.6030 - accura\n",
      "Epoch 9/25\n",
      "7245/7245 [==============================] - 14s 2ms/step - loss: 0.5847 - accuracy: 0.7130\n",
      "Epoch 10/25\n",
      "7245/7245 [==============================] - 14s 2ms/step - loss: 0.5727 - accuracy: 0.7193\n",
      "Epoch 11/25\n",
      "7245/7245 [==============================] - 14s 2ms/step - loss: 0.5653 - accuracy: 0.7168 0s - loss: 0.5660 - accuracy: 0.71 - ETA: 0s - los\n",
      "Epoch 12/25\n",
      "2624/7245 [=========>....................] - ETA: 8s - loss: 0.5448 - accuracy: 0.7146"
     ]
    }
   ],
   "source": [
    "grid_cnn.fit(X_train, y_train)"
   ]
  },
  {
   "cell_type": "code",
   "execution_count": null,
   "metadata": {},
   "outputs": [],
   "source": [
    "r_cv_df = pd.DataFrame.from_dict(grid_cnn.cv_results_)\n",
    "r_cv_df.to_csv('raw_cnn_cv_results.csv')\n",
    "r_cv_df"
   ]
  },
  {
   "cell_type": "code",
   "execution_count": null,
   "metadata": {},
   "outputs": [],
   "source": [
    "grid_cnn.best_score_"
   ]
  },
  {
   "cell_type": "code",
   "execution_count": null,
   "metadata": {},
   "outputs": [],
   "source": [
    "grid_cnn.best_estimator"
   ]
  },
  {
   "cell_type": "code",
   "execution_count": null,
   "metadata": {},
   "outputs": [],
   "source": [
    "grid_cnn.best_params_"
   ]
  },
  {
   "cell_type": "code",
   "execution_count": null,
   "metadata": {},
   "outputs": [],
   "source": [
    "best = grid_cnn.best_params_"
   ]
  },
  {
   "cell_type": "code",
   "execution_count": null,
   "metadata": {},
   "outputs": [],
   "source": [
    "model = Sequential()\n",
    "model.add(Conv1D(filter_cnn, window, activation='relu', input_shape=input_shape))\n",
    "model.add(Conv1D(filter_cnn, window, activation='relu'))\n",
    "model.add(MaxPooling1D(pool))\n",
    "model.add(Conv1D(filter_cnn * 2, window, activation='relu'))\n",
    "model.add(Conv1D(filter_cnn * 2, window, activation='relu'))\n",
    "model.add(GlobalAveragePooling1D())\n",
    "model.add(Dropout(dropout))\n",
    "model.add(Dense(number_of_classes, activation='softmax'))\n",
    "model.compile(loss='sparse_categorical_crossentropy', optimizer='adam', metrics=['accuracy'])"
   ]
  },
  {
   "cell_type": "code",
   "execution_count": null,
   "metadata": {},
   "outputs": [],
   "source": [
    "history = model.fit(X_train, y_train, epochs=25 ,window = best['window'],dropout = best['dropout'], batch_size= 32, verbose = 0)"
   ]
  },
  {
   "cell_type": "code",
   "execution_count": null,
   "metadata": {},
   "outputs": [],
   "source": [
    "plt.title('Treniranje mreže - funkcija gubitka')\n",
    "plt.xlabel('Epoha')\n",
    "plt.ylabel('Funkcija gubitka')\n",
    "plt.plot(history.epoch, history.history['loss'])"
   ]
  },
  {
   "cell_type": "code",
   "execution_count": null,
   "metadata": {},
   "outputs": [],
   "source": [
    "plt.title('Treniranje mreže - tačnost modela')\n",
    "plt.xlabel('Epoha')\n",
    "plt.ylabel('Tačnost')\n",
    "plt.plot(history.epoch, history.history['accuracy'])"
   ]
  },
  {
   "cell_type": "code",
   "execution_count": null,
   "metadata": {},
   "outputs": [],
   "source": [
    "model.save('models/cnn_raw.hdf5')"
   ]
  },
  {
   "cell_type": "code",
   "execution_count": null,
   "metadata": {},
   "outputs": [],
   "source": [
    "#from keras.models import load_model\n",
    "#model_revived = load_model('models/boston_housing.hdf5')"
   ]
  },
  {
   "cell_type": "code",
   "execution_count": null,
   "metadata": {},
   "outputs": [],
   "source": []
  },
  {
   "cell_type": "code",
   "execution_count": null,
   "metadata": {},
   "outputs": [],
   "source": []
  },
  {
   "cell_type": "markdown",
   "metadata": {},
   "source": [
    "## Furijeova transformacija"
   ]
  },
  {
   "cell_type": "code",
   "execution_count": null,
   "metadata": {},
   "outputs": [],
   "source": [
    "X_train, X_test, y_train, y_test = model_selection.train_test_split(X, y, test_size = 0.3, stratify = y,random_state = 1996)"
   ]
  },
  {
   "cell_type": "code",
   "execution_count": null,
   "metadata": {},
   "outputs": [],
   "source": [
    "scaler_train = preprocessing.StandardScaler()\n",
    "scaler_train.fit(X_train)\n",
    "X_train = scaler_train.transform(X_train)\n",
    "X_test = scaler_train.transform(X_test)"
   ]
  },
  {
   "cell_type": "code",
   "execution_count": 192,
   "metadata": {
    "scrolled": true
   },
   "outputs": [
    {
     "name": "stderr",
     "output_type": "stream",
     "text": [
      "c:\\users\\ana\\appdata\\local\\programs\\python\\python36\\lib\\site-packages\\ipykernel_launcher.py:1: ComplexWarning: Casting complex values to real discards the imaginary part\n",
      "  \"\"\"Entry point for launching an IPython kernel.\n",
      "c:\\users\\ana\\appdata\\local\\programs\\python\\python36\\lib\\site-packages\\ipykernel_launcher.py:2: ComplexWarning: Casting complex values to real discards the imaginary part\n",
      "  \n"
     ]
    }
   ],
   "source": [
    "X_f_train = np.fft.rfft(X_train, axis=1).astype(float)\n",
    "X_f_test = np.fft.rfft(X_test, axis=1).astype(float)"
   ]
  },
  {
   "cell_type": "code",
   "execution_count": null,
   "metadata": {},
   "outputs": [],
   "source": [
    "X_train.shape"
   ]
  },
  {
   "cell_type": "code",
   "execution_count": null,
   "metadata": {},
   "outputs": [],
   "source": [
    "X_f_train.shape"
   ]
  },
  {
   "cell_type": "code",
   "execution_count": null,
   "metadata": {},
   "outputs": [],
   "source": [
    "X_f_train = X_f_train.reshape(X_f_train.shape[0], X_f_train.shape[1], 1)\n",
    "X_f_test = X_f_test.reshape(X_f_test.shape[0], X_f_test.shape[1], 1)"
   ]
  },
  {
   "cell_type": "code",
   "execution_count": null,
   "metadata": {},
   "outputs": [],
   "source": [
    "input_shape = (X_f_train.shape[1], 1)"
   ]
  },
  {
   "cell_type": "code",
   "execution_count": null,
   "metadata": {},
   "outputs": [],
   "source": [
    "def mreza(input_shape, num_classes,window, dropout):\n",
    "    model = Sequential()\n",
    "    model.add(Conv1D(filter_cnn, window, activation='relu', input_shape=input_shape))\n",
    "    model.add(Conv1D(filter_cnn, window, activation='relu'))\n",
    "    model.add(MaxPooling1D(pool))\n",
    "    model.add(Conv1D(filter_cnn * 2, window, activation='relu'))\n",
    "    model.add(Conv1D(filter_cnn * 2, window, activation='relu'))\n",
    "    model.add(GlobalAveragePooling1D())\n",
    "    model.add(Dropout(dropout))\n",
    "    model.add(Dense(number_of_classes, activation='softmax'))\n",
    "    model.compile(loss='sparse_categorical_crossentropy', optimizer='adam', metrics=['accuracy'])\n",
    "    return model"
   ]
  },
  {
   "cell_type": "code",
   "execution_count": null,
   "metadata": {},
   "outputs": [],
   "source": [
    "from keras.wrappers.scikit_learn  import KerasClassifier\n",
    "def get_estimator(window=3,dropout=0.5):\n",
    "    return KerasClassifier(build_fn=mreza,input_shape=input_shape, num_classes=num_classes,window=window, dropout=dropout,epochs=epochs)"
   ]
  },
  {
   "cell_type": "code",
   "execution_count": null,
   "metadata": {},
   "outputs": [],
   "source": [
    "estimator = get_estimator()"
   ]
  },
  {
   "cell_type": "code",
   "execution_count": null,
   "metadata": {},
   "outputs": [],
   "source": [
    "grid_cnn_f = model_selection.GridSearchCV(estimator, param_grid=cnn_par_f, scoring=scoring, cv=10, refit='accuracy', return_train_score=True)"
   ]
  },
  {
   "cell_type": "code",
   "execution_count": null,
   "metadata": {},
   "outputs": [],
   "source": [
    "grid_cnn_f.fit(X_f_train, y_train)"
   ]
  }
 ],
 "metadata": {
  "kernelspec": {
   "display_name": "Python 3",
   "language": "python",
   "name": "python3"
  }
 },
 "nbformat": 4,
 "nbformat_minor": 4
}
