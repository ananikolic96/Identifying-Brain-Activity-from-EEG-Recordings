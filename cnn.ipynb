{
 "cells": [
  {
   "cell_type": "code",
   "execution_count": 4,
   "metadata": {},
   "outputs": [
    {
     "name": "stderr",
     "output_type": "stream",
     "text": [
      "Using TensorFlow backend.\n"
     ]
    }
   ],
   "source": [
    "import numpy as np\n",
    "import matplotlib.pyplot as plt\n",
    "import pandas as pd\n",
    "import keras\n",
    "import tensorflow\n",
    "from sklearn import model_selection"
   ]
  },
  {
   "cell_type": "code",
   "execution_count": 6,
   "metadata": {},
   "outputs": [],
   "source": [
    "data = pd.read_csv('data.csv')"
   ]
  },
  {
   "cell_type": "code",
   "execution_count": 7,
   "metadata": {},
   "outputs": [],
   "source": [
    "data.drop(columns=['Unnamed: 0'], inplace = True)"
   ]
  },
  {
   "cell_type": "code",
   "execution_count": 8,
   "metadata": {},
   "outputs": [],
   "source": [
    "y = data.iloc[:, -1]"
   ]
  },
  {
   "cell_type": "code",
   "execution_count": 9,
   "metadata": {},
   "outputs": [],
   "source": [
    "X = data.iloc[:, :data.shape[1] - 1]"
   ]
  },
  {
   "cell_type": "code",
   "execution_count": 47,
   "metadata": {},
   "outputs": [],
   "source": [
    "cnn_par = {\n",
    "    'window': [3, 7, 11],\n",
    "    'dropout': [0.1, 0.2, 0.5],\n",
    "    'epochs': [25]\n",
    "}"
   ]
  },
  {
   "cell_type": "code",
   "execution_count": 48,
   "metadata": {},
   "outputs": [],
   "source": [
    "from keras.layers import Dense\n",
    "from keras.layers import Dropout\n",
    "from keras.layers import GlobalAveragePooling1D\n",
    "from keras.layers.convolutional import Conv1D\n",
    "from keras.layers.convolutional import MaxPooling1D\n",
    "from keras.models import Sequential\n",
    "from keras.wrappers.scikit_learn import KerasClassifier"
   ]
  },
  {
   "cell_type": "code",
   "execution_count": 76,
   "metadata": {},
   "outputs": [],
   "source": [
    "X=np.array(X)"
   ]
  },
  {
   "cell_type": "code",
   "execution_count": 80,
   "metadata": {
    "scrolled": true
   },
   "outputs": [],
   "source": [
    "X = X.reshape(X.shape[0], X.shape[1], 1)\n",
    "X_train, X_test, y_train, y_test = model_selection.train_test_split(X, y, test_size = 0.33, stratify = y)"
   ]
  },
  {
   "cell_type": "code",
   "execution_count": 81,
   "metadata": {},
   "outputs": [],
   "source": [
    "from sklearn import preprocessing"
   ]
  },
  {
   "cell_type": "code",
   "execution_count": 82,
   "metadata": {},
   "outputs": [],
   "source": [
    "#scaler_train = preprocessing.StandardScaler()\n",
    "#scaler_train.fit(X_train)\n",
    "#X_train_cnn = scaler_train.transform(X_train)\n",
    "#X_test_cnn = scaler_train.transform(X_test)"
   ]
  },
  {
   "cell_type": "code",
   "execution_count": 83,
   "metadata": {},
   "outputs": [],
   "source": [
    "filter_cnn = 64\n",
    "number_of_classes = len(np.unique(y))\n",
    "input_shape = (X_train.shape[1], 1)"
   ]
  },
  {
   "cell_type": "code",
   "execution_count": 84,
   "metadata": {},
   "outputs": [],
   "source": [
    "#from keras import utils\n",
    "#y_train = utils.to_categorical(y_train, number_of_classes)\n",
    "#y_test = utils.to_categorical(y_test, number_of_classes)"
   ]
  },
  {
   "cell_type": "code",
   "execution_count": 85,
   "metadata": {},
   "outputs": [],
   "source": [
    "pool = 3\n",
    "num_classes = 5"
   ]
  },
  {
   "cell_type": "code",
   "execution_count": 86,
   "metadata": {},
   "outputs": [],
   "source": [
    "#X_train = np.expand_dims(np.random.normal(size=(7705, 178)),axis=-1)"
   ]
  },
  {
   "cell_type": "code",
   "execution_count": 87,
   "metadata": {},
   "outputs": [],
   "source": [
    "def mreza(input_shape, num_classes,window, dropout):\n",
    "    model = Sequential()\n",
    "    model.add(Conv1D(filter_cnn, window, activation='relu', input_shape=input_shape))\n",
    "    model.add(Conv1D(filter_cnn, window, activation='relu'))\n",
    "    model.add(MaxPooling1D(pool))\n",
    "    model.add(Conv1D(filter_cnn * 2, window, activation='relu'))\n",
    "    model.add(Conv1D(filter_cnn * 2, window, activation='relu'))\n",
    "    model.add(GlobalAveragePooling1D())\n",
    "    model.add(Dropout(dropout))\n",
    "    model.add(Dense(number_of_classes, activation='softmax'))\n",
    "    model.compile(loss='sparse_categorical_crossentropy', optimizer='adam', metrics=['accuracy'])\n",
    "    return model"
   ]
  },
  {
   "cell_type": "code",
   "execution_count": 88,
   "metadata": {},
   "outputs": [],
   "source": [
    "from keras.wrappers.scikit_learn  import KerasClassifier\n",
    "def get_estimator(input_shape=input_shape, num_classes=num_classes,window=3, dropout=0.5):\n",
    "    return KerasClassifier(build_fn=mreza,input_shape=input_shape, num_classes=num_classes,window=window, dropout=dropout)"
   ]
  },
  {
   "cell_type": "code",
   "execution_count": 89,
   "metadata": {},
   "outputs": [],
   "source": [
    "estimator = get_estimator()"
   ]
  },
  {
   "cell_type": "code",
   "execution_count": 90,
   "metadata": {},
   "outputs": [],
   "source": [
    "grid_cnn = model_selection.GridSearchCV(estimator, param_grid=cnn_par, scoring='accuracy', cv=10, return_train_score=True)"
   ]
  },
  {
   "cell_type": "code",
   "execution_count": null,
   "metadata": {},
   "outputs": [
    {
     "name": "stdout",
     "output_type": "stream",
     "text": [
      "Epoch 1/25\n",
      "6934/6934 [==============================] - 11s 2ms/step - loss: 1.3466 - accuracy: 0.4616\n",
      "Epoch 2/25\n",
      "6934/6934 [==============================] - 11s 2ms/step - loss: 0.8546 - accuracy: 0.6273\n",
      "Epoch 3/25\n",
      "6934/6934 [==============================] - 11s 2ms/step - loss: 0.7207 - accuracy: 0.6742\n",
      "Epoch 4/25\n",
      "6934/6934 [==============================] - 11s 2ms/step - loss: 0.6395 - accuracy: 0.6992 \n",
      "Epoch 5/25\n",
      "6934/6934 [==============================] - 11s 2ms/step - loss: 0.6122 - accuracy: 0.7120\n",
      "Epoch 6/25\n",
      "6934/6934 [==============================] - 11s 2ms/step - loss: 0.5864 - accuracy: 0.7240\n",
      "Epoch 7/25\n",
      "6934/6934 [==============================] - 11s 2ms/step - loss: 0.5614 - accuracy: 0.7342\n",
      "Epoch 8/25\n",
      "1344/6934 [====>.........................] - ETA: 8s - loss: 0.5383 - accuracy: 0.7426"
     ]
    }
   ],
   "source": [
    "grid_cnn.fit(X_train, y_train)"
   ]
  },
  {
   "cell_type": "code",
   "execution_count": null,
   "metadata": {},
   "outputs": [],
   "source": [
    "grid_cnn.best_score_"
   ]
  },
  {
   "cell_type": "code",
   "execution_count": null,
   "metadata": {},
   "outputs": [],
   "source": []
  }
 ],
 "metadata": {
  "kernelspec": {
   "display_name": "Python 3",
   "language": "python",
   "name": "python3"
  },
  "language_info": {
   "codemirror_mode": {
    "name": "ipython",
    "version": 3
   },
   "file_extension": ".py",
   "mimetype": "text/x-python",
   "name": "python",
   "nbconvert_exporter": "python",
   "pygments_lexer": "ipython3",
   "version": "3.6.8"
  }
 },
 "nbformat": 4,
 "nbformat_minor": 4
}
